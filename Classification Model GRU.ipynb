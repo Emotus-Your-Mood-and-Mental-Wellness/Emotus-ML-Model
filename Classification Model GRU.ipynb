{
 "cells": [
  {
   "cell_type": "markdown",
   "metadata": {
    "id": "B3SaYLKh5Iyu"
   },
   "source": [
    "# Klasifikasi Emosi dengan RNN-GRU.ipynb\n",
    "\n",
    "Pada notebook ini akan dbangun model NN untuk klasifikasi RNN-GRU dengan data text tweet yang sudah dibersihkan sebelumnya"
   ]
  },
  {
   "cell_type": "markdown",
   "metadata": {
    "id": "RyfXY9X-5azB"
   },
   "source": [
    "**Import Library**"
   ]
  },
  {
   "cell_type": "code",
   "execution_count": 213,
   "metadata": {
    "id": "CLq5gQIvyWIr"
   },
   "outputs": [],
   "source": [
    "import pandas as pd\n",
    "import numpy as np\n",
    "\n",
    "import tensorflow as tf\n",
    "from sklearn.model_selection import train_test_split\n",
    "from sklearn.preprocessing import LabelEncoder\n",
    "\n",
    "from tensorflow.keras.models import Sequential\n",
    "from tensorflow.keras.layers import Embedding, GRU, Dense, Dropout, BatchNormalization, Bidirectional\n",
    "from tensorflow.keras.preprocessing.text import Tokenizer\n",
    "from tensorflow.keras.preprocessing.sequence import pad_sequences\n",
    "from tensorflow.keras.callbacks import EarlyStopping\n",
    "\n",
    "import matplotlib.pyplot as plt\n",
    "import seaborn"
   ]
  },
  {
   "cell_type": "markdown",
   "metadata": {
    "id": "yZeFL_mM5kxf"
   },
   "source": [
    "## Load Data"
   ]
  },
  {
   "cell_type": "code",
   "execution_count": 214,
   "metadata": {
    "id": "0H93Wj0wyaIa"
   },
   "outputs": [],
   "source": [
    "df = pd.read_csv(\"https://raw.githubusercontent.com/eliyantojoko/emotion_classification_GRU/refs/heads/main/preprocessed_dataset_adjustdikit.csv\")"
   ]
  },
  {
   "cell_type": "code",
   "execution_count": 215,
   "metadata": {
    "id": "XzZxMsiYydLg"
   },
   "outputs": [],
   "source": [
    "data = df[[\"refined_tweet\", \"label\"]]"
   ]
  },
  {
   "cell_type": "code",
   "execution_count": 216,
   "metadata": {
    "colab": {
     "base_uri": "https://localhost:8080/",
     "height": 424
    },
    "id": "LSH6qu1yyhHO",
    "outputId": "43e2c0d5-87a3-466f-8aa5-9bfb51353ded"
   },
   "outputs": [
    {
     "data": {
      "text/html": [
       "<div>\n",
       "<style scoped>\n",
       "    .dataframe tbody tr th:only-of-type {\n",
       "        vertical-align: middle;\n",
       "    }\n",
       "\n",
       "    .dataframe tbody tr th {\n",
       "        vertical-align: top;\n",
       "    }\n",
       "\n",
       "    .dataframe thead th {\n",
       "        text-align: right;\n",
       "    }\n",
       "</style>\n",
       "<table border=\"1\" class=\"dataframe\">\n",
       "  <thead>\n",
       "    <tr style=\"text-align: right;\">\n",
       "      <th></th>\n",
       "      <th>refined_tweet</th>\n",
       "      <th>label</th>\n",
       "    </tr>\n",
       "  </thead>\n",
       "  <tbody>\n",
       "    <tr>\n",
       "      <th>0</th>\n",
       "      <td>soal jalan jatibarupolisi bisa gertak gubernur...</td>\n",
       "      <td>anger</td>\n",
       "    </tr>\n",
       "    <tr>\n",
       "      <th>1</th>\n",
       "      <td>sesama cewek lho kayaknya harusnya rasain haru...</td>\n",
       "      <td>anger</td>\n",
       "    </tr>\n",
       "    <tr>\n",
       "      <th>2</th>\n",
       "      <td>kepingin gudeg mbarek bu hj amad foto google s...</td>\n",
       "      <td>happy</td>\n",
       "    </tr>\n",
       "    <tr>\n",
       "      <th>3</th>\n",
       "      <td>jalan jatibarubagian wilayah tn abangpengatura...</td>\n",
       "      <td>anger</td>\n",
       "    </tr>\n",
       "    <tr>\n",
       "      <th>4</th>\n",
       "      <td>sharing pengalaman aja kemarin jam batalin tik...</td>\n",
       "      <td>happy</td>\n",
       "    </tr>\n",
       "    <tr>\n",
       "      <th>...</th>\n",
       "      <td>...</td>\n",
       "      <td>...</td>\n",
       "    </tr>\n",
       "    <tr>\n",
       "      <th>4396</th>\n",
       "      <td>tahukah saat papa memejamkan matanya menahan g...</td>\n",
       "      <td>love</td>\n",
       "    </tr>\n",
       "    <tr>\n",
       "      <th>4397</th>\n",
       "      <td>sulitnya menetapkan calon wapresnya jokowi pil...</td>\n",
       "      <td>fear</td>\n",
       "    </tr>\n",
       "    <tr>\n",
       "      <th>4398</th>\n",
       "      <td>masa depannya jelas lha iya gimana mau jelas c...</td>\n",
       "      <td>anger</td>\n",
       "    </tr>\n",
       "    <tr>\n",
       "      <th>4399</th>\n",
       "      <td>benar mahasiswa teknik ui nembak pacarnya sahu...</td>\n",
       "      <td>happy</td>\n",
       "    </tr>\n",
       "    <tr>\n",
       "      <th>4400</th>\n",
       "      <td>allah engkau mengetahui rasa sakit hati sembuh...</td>\n",
       "      <td>sadness</td>\n",
       "    </tr>\n",
       "  </tbody>\n",
       "</table>\n",
       "<p>4401 rows × 2 columns</p>\n",
       "</div>"
      ],
      "text/plain": [
       "                                          refined_tweet    label\n",
       "0     soal jalan jatibarupolisi bisa gertak gubernur...    anger\n",
       "1     sesama cewek lho kayaknya harusnya rasain haru...    anger\n",
       "2     kepingin gudeg mbarek bu hj amad foto google s...    happy\n",
       "3     jalan jatibarubagian wilayah tn abangpengatura...    anger\n",
       "4     sharing pengalaman aja kemarin jam batalin tik...    happy\n",
       "...                                                 ...      ...\n",
       "4396  tahukah saat papa memejamkan matanya menahan g...     love\n",
       "4397  sulitnya menetapkan calon wapresnya jokowi pil...     fear\n",
       "4398  masa depannya jelas lha iya gimana mau jelas c...    anger\n",
       "4399  benar mahasiswa teknik ui nembak pacarnya sahu...    happy\n",
       "4400  allah engkau mengetahui rasa sakit hati sembuh...  sadness\n",
       "\n",
       "[4401 rows x 2 columns]"
      ]
     },
     "execution_count": 216,
     "metadata": {},
     "output_type": "execute_result"
    }
   ],
   "source": [
    "data"
   ]
  },
  {
   "cell_type": "code",
   "execution_count": 217,
   "metadata": {},
   "outputs": [
    {
     "data": {
      "text/html": [
       "<div>\n",
       "<style scoped>\n",
       "    .dataframe tbody tr th:only-of-type {\n",
       "        vertical-align: middle;\n",
       "    }\n",
       "\n",
       "    .dataframe tbody tr th {\n",
       "        vertical-align: top;\n",
       "    }\n",
       "\n",
       "    .dataframe thead th {\n",
       "        text-align: right;\n",
       "    }\n",
       "</style>\n",
       "<table border=\"1\" class=\"dataframe\">\n",
       "  <thead>\n",
       "    <tr style=\"text-align: right;\">\n",
       "      <th></th>\n",
       "      <th>refined_tweet</th>\n",
       "      <th>label</th>\n",
       "      <th>casefolding</th>\n",
       "    </tr>\n",
       "  </thead>\n",
       "  <tbody>\n",
       "    <tr>\n",
       "      <th>0</th>\n",
       "      <td>soal jalan jatibarupolisi bisa gertak gubernur...</td>\n",
       "      <td>anger</td>\n",
       "      <td>soal jalan jatibarupolisi bisa gertak gubernur...</td>\n",
       "    </tr>\n",
       "    <tr>\n",
       "      <th>1</th>\n",
       "      <td>sesama cewek lho kayaknya harusnya rasain haru...</td>\n",
       "      <td>anger</td>\n",
       "      <td>sesama cewek lho kayaknya harusnya rasain haru...</td>\n",
       "    </tr>\n",
       "    <tr>\n",
       "      <th>2</th>\n",
       "      <td>kepingin gudeg mbarek bu hj amad foto google s...</td>\n",
       "      <td>happy</td>\n",
       "      <td>kepingin gudeg mbarek bu hj amad foto google s...</td>\n",
       "    </tr>\n",
       "    <tr>\n",
       "      <th>3</th>\n",
       "      <td>jalan jatibarubagian wilayah tn abangpengatura...</td>\n",
       "      <td>anger</td>\n",
       "      <td>jalan jatibarubagian wilayah tn abangpengatura...</td>\n",
       "    </tr>\n",
       "    <tr>\n",
       "      <th>4</th>\n",
       "      <td>sharing pengalaman aja kemarin jam batalin tik...</td>\n",
       "      <td>happy</td>\n",
       "      <td>sharing pengalaman aja kemarin jam batalin tik...</td>\n",
       "    </tr>\n",
       "  </tbody>\n",
       "</table>\n",
       "</div>"
      ],
      "text/plain": [
       "                                       refined_tweet  label  \\\n",
       "0  soal jalan jatibarupolisi bisa gertak gubernur...  anger   \n",
       "1  sesama cewek lho kayaknya harusnya rasain haru...  anger   \n",
       "2  kepingin gudeg mbarek bu hj amad foto google s...  happy   \n",
       "3  jalan jatibarubagian wilayah tn abangpengatura...  anger   \n",
       "4  sharing pengalaman aja kemarin jam batalin tik...  happy   \n",
       "\n",
       "                                         casefolding  \n",
       "0  soal jalan jatibarupolisi bisa gertak gubernur...  \n",
       "1  sesama cewek lho kayaknya harusnya rasain haru...  \n",
       "2  kepingin gudeg mbarek bu hj amad foto google s...  \n",
       "3  jalan jatibarubagian wilayah tn abangpengatura...  \n",
       "4  sharing pengalaman aja kemarin jam batalin tik...  "
      ]
     },
     "execution_count": 217,
     "metadata": {},
     "output_type": "execute_result"
    }
   ],
   "source": [
    "import re\n",
    "\n",
    "# Buat fungsi untuk langkah case folding\n",
    "def casefolding(text):\n",
    "    text = re.sub(r'\\n', ' ', text)                        # Menghilangkan Enter\n",
    "    text = re.sub(r'\\bhttps?\\S*\\b', ' ', text)             # Menghilangkan kata yang mengandung http atau https\n",
    "    text = re.sub(r'\\s+', ' ', text)                       # Mengganti spasi ganda menjadi spasi tunggal\n",
    "    text = text.lower()                                    # Mengubah huruf menjadi huruf kecil\n",
    "    text = text.replace(\":\", \" \")                          # Hapus :\n",
    "    text = re.sub(r'@\\w+\\s*', ' ', text)                   # Menghapus kata yang diawali dengan @\n",
    "    text = re.sub(r'[-+]?[0-9]+', ' ', text)               # Menghapus angka\n",
    "    text = re.sub(r'[^\\w\\s]', ' ', text)                   # Menghapus karakter tanda baca\n",
    "    text = text.strip()                                    # Menghapus whitespace di awal dan di akhir\n",
    "    return text\n",
    "\n",
    "data[\"casefolding\"] = data[\"refined_tweet\"].apply(lambda x: casefolding(x))\n",
    "data.head()\n"
   ]
  },
  {
   "cell_type": "code",
   "execution_count": 218,
   "metadata": {},
   "outputs": [
    {
     "data": {
      "text/html": [
       "<div>\n",
       "<style scoped>\n",
       "    .dataframe tbody tr th:only-of-type {\n",
       "        vertical-align: middle;\n",
       "    }\n",
       "\n",
       "    .dataframe tbody tr th {\n",
       "        vertical-align: top;\n",
       "    }\n",
       "\n",
       "    .dataframe thead th {\n",
       "        text-align: right;\n",
       "    }\n",
       "</style>\n",
       "<table border=\"1\" class=\"dataframe\">\n",
       "  <thead>\n",
       "    <tr style=\"text-align: right;\">\n",
       "      <th></th>\n",
       "      <th>refined_tweet</th>\n",
       "      <th>label</th>\n",
       "      <th>casefolding</th>\n",
       "      <th>textnormalize</th>\n",
       "    </tr>\n",
       "  </thead>\n",
       "  <tbody>\n",
       "    <tr>\n",
       "      <th>0</th>\n",
       "      <td>soal jalan jatibarupolisi bisa gertak gubernur...</td>\n",
       "      <td>anger</td>\n",
       "      <td>soal jalan jatibarupolisi bisa gertak gubernur...</td>\n",
       "      <td>soal jalan jatibarupolisi bisa gertak gubernur...</td>\n",
       "    </tr>\n",
       "    <tr>\n",
       "      <th>1</th>\n",
       "      <td>sesama cewek lho kayaknya harusnya rasain haru...</td>\n",
       "      <td>anger</td>\n",
       "      <td>sesama cewek lho kayaknya harusnya rasain haru...</td>\n",
       "      <td>sesama cewek lho kayaknya harusnya rasain haru...</td>\n",
       "    </tr>\n",
       "    <tr>\n",
       "      <th>2</th>\n",
       "      <td>kepingin gudeg mbarek bu hj amad foto google s...</td>\n",
       "      <td>happy</td>\n",
       "      <td>kepingin gudeg mbarek bu hj amad foto google s...</td>\n",
       "      <td>kepingin gudeg mbarek bu hj amad foto google s...</td>\n",
       "    </tr>\n",
       "    <tr>\n",
       "      <th>3</th>\n",
       "      <td>jalan jatibarubagian wilayah tn abangpengatura...</td>\n",
       "      <td>anger</td>\n",
       "      <td>jalan jatibarubagian wilayah tn abangpengatura...</td>\n",
       "      <td>jalan jatibarubagian wilayah tn abangpengatura...</td>\n",
       "    </tr>\n",
       "    <tr>\n",
       "      <th>4</th>\n",
       "      <td>sharing pengalaman aja kemarin jam batalin tik...</td>\n",
       "      <td>happy</td>\n",
       "      <td>sharing pengalaman aja kemarin jam batalin tik...</td>\n",
       "      <td>sharing pengalaman saja kemarin jam batalin ti...</td>\n",
       "    </tr>\n",
       "  </tbody>\n",
       "</table>\n",
       "</div>"
      ],
      "text/plain": [
       "                                       refined_tweet  label  \\\n",
       "0  soal jalan jatibarupolisi bisa gertak gubernur...  anger   \n",
       "1  sesama cewek lho kayaknya harusnya rasain haru...  anger   \n",
       "2  kepingin gudeg mbarek bu hj amad foto google s...  happy   \n",
       "3  jalan jatibarubagian wilayah tn abangpengatura...  anger   \n",
       "4  sharing pengalaman aja kemarin jam batalin tik...  happy   \n",
       "\n",
       "                                         casefolding  \\\n",
       "0  soal jalan jatibarupolisi bisa gertak gubernur...   \n",
       "1  sesama cewek lho kayaknya harusnya rasain haru...   \n",
       "2  kepingin gudeg mbarek bu hj amad foto google s...   \n",
       "3  jalan jatibarubagian wilayah tn abangpengatura...   \n",
       "4  sharing pengalaman aja kemarin jam batalin tik...   \n",
       "\n",
       "                                       textnormalize  \n",
       "0  soal jalan jatibarupolisi bisa gertak gubernur...  \n",
       "1  sesama cewek lho kayaknya harusnya rasain haru...  \n",
       "2  kepingin gudeg mbarek bu hj amad foto google s...  \n",
       "3  jalan jatibarubagian wilayah tn abangpengatura...  \n",
       "4  sharing pengalaman saja kemarin jam batalin ti...  "
      ]
     },
     "execution_count": 218,
     "metadata": {},
     "output_type": "execute_result"
    }
   ],
   "source": [
    "key_norm = pd.read_csv(\"key_norm.csv\")\n",
    "def text_normalize(text):\n",
    "    text = ' '.join([key_norm[key_norm['singkat'] == word]['hasil'].values[0] if (key_norm['singkat'] == word).any() else word for word in text.split()])\n",
    "    text = str.lower(text)\n",
    "    return text\n",
    "data['textnormalize'] = data['casefolding'].apply(text_normalize)\n",
    "data.head()\n"
   ]
  },
  {
   "cell_type": "code",
   "execution_count": 219,
   "metadata": {},
   "outputs": [
    {
     "name": "stderr",
     "output_type": "stream",
     "text": [
      "[nltk_data] Downloading package stopwords to\n",
      "[nltk_data]     C:\\Users\\BISRI_MUSTAFA\\AppData\\Roaming\\nltk_data...\n",
      "[nltk_data]   Package stopwords is already up-to-date!\n"
     ]
    },
    {
     "data": {
      "text/plain": [
       "True"
      ]
     },
     "execution_count": 219,
     "metadata": {},
     "output_type": "execute_result"
    }
   ],
   "source": [
    "# download Stopwords bahasa indonesia\n",
    "import nltk\n",
    "nltk.download('stopwords')"
   ]
  },
  {
   "cell_type": "code",
   "execution_count": 220,
   "metadata": {},
   "outputs": [
    {
     "name": "stdout",
     "output_type": "stream",
     "text": [
      "['ada', 'adalah', 'adanya', 'adapun', 'agak', 'agaknya', 'agar', 'akan', 'akankah', 'akhir', 'akhiri', 'akhirnya', 'aku', 'akulah', 'amat', 'amatlah', 'anda', 'andalah', 'antar', 'antara', 'antaranya', 'apa', 'apaan', 'apabila', 'apakah', 'apalagi', 'apatah', 'artinya', 'asal', 'asalkan', 'atas', 'atau', 'ataukah', 'ataupun', 'awal', 'awalnya', 'bagai', 'bagaikan', 'bagaimana', 'bagaimanakah', 'bagaimanapun', 'bagi', 'bagian', 'bahkan', 'bahwa', 'bahwasanya', 'baik', 'bakal', 'bakalan', 'balik', 'banyak', 'bapak', 'baru', 'bawah', 'beberapa', 'begini', 'beginian', 'beginikah', 'beginilah', 'begitu', 'begitukah', 'begitulah', 'begitupun', 'bekerja', 'belakang', 'belakangan', 'belum', 'belumlah', 'benar', 'benarkah', 'benarlah', 'berada', 'berakhir', 'berakhirlah', 'berakhirnya', 'berapa', 'berapakah', 'berapalah', 'berapapun', 'berarti', 'berawal', 'berbagai', 'berdatangan', 'beri', 'berikan', 'berikut', 'berikutnya', 'berjumlah', 'berkali-kali', 'berkata', 'berkehendak', 'berkeinginan', 'berkenaan', 'berlainan', 'berlalu', 'berlangsung', 'berlebihan', 'bermacam', 'bermacam-macam', 'bermaksud', 'bermula', 'bersama', 'bersama-sama', 'bersiap', 'bersiap-siap', 'bertanya', 'bertanya-tanya', 'berturut', 'berturut-turut', 'bertutur', 'berujar', 'berupa', 'besar', 'betul', 'betulkah', 'biasa', 'biasanya', 'bila', 'bilakah', 'bisa', 'bisakah', 'boleh', 'bolehkah', 'bolehlah', 'buat', 'bukan', 'bukankah', 'bukanlah', 'bukannya', 'bulan', 'bung', 'cara', 'caranya', 'cukup', 'cukupkah', 'cukuplah', 'cuma', 'dahulu', 'dalam', 'dan', 'dapat', 'dari', 'daripada', 'datang', 'dekat', 'demi', 'demikian', 'demikianlah', 'dengan', 'depan', 'di', 'dia', 'diakhiri', 'diakhirinya', 'dialah', 'diantara', 'diantaranya', 'diberi', 'diberikan', 'diberikannya', 'dibuat', 'dibuatnya', 'didapat', 'didatangkan', 'digunakan', 'diibaratkan', 'diibaratkannya', 'diingat', 'diingatkan', 'diinginkan', 'dijawab', 'dijelaskan', 'dijelaskannya', 'dikarenakan', 'dikatakan', 'dikatakannya', 'dikerjakan', 'diketahui', 'diketahuinya', 'dikira', 'dilakukan', 'dilalui', 'dilihat', 'dimaksud', 'dimaksudkan', 'dimaksudkannya', 'dimaksudnya', 'diminta', 'dimintai', 'dimisalkan', 'dimulai', 'dimulailah', 'dimulainya', 'dimungkinkan', 'dini', 'dipastikan', 'diperbuat', 'diperbuatnya', 'dipergunakan', 'diperkirakan', 'diperlihatkan', 'diperlukan', 'diperlukannya', 'dipersoalkan', 'dipertanyakan', 'dipunyai', 'diri', 'dirinya', 'disampaikan', 'disebut', 'disebutkan', 'disebutkannya', 'disini', 'disinilah', 'ditambahkan', 'ditandaskan', 'ditanya', 'ditanyai', 'ditanyakan', 'ditegaskan', 'ditujukan', 'ditunjuk', 'ditunjuki', 'ditunjukkan', 'ditunjukkannya', 'ditunjuknya', 'dituturkan', 'dituturkannya', 'diucapkan', 'diucapkannya', 'diungkapkan', 'dong', 'dua', 'dulu', 'empat', 'enggak', 'enggaknya', 'entah', 'entahlah', 'guna', 'gunakan', 'hal', 'hampir', 'hanya', 'hanyalah', 'hari', 'harus', 'haruslah', 'harusnya', 'hendak', 'hendaklah', 'hendaknya', 'hingga', 'ia', 'ialah', 'ibarat', 'ibaratkan', 'ibaratnya', 'ibu', 'ikut', 'ingat', 'ingat-ingat', 'ingin', 'inginkah', 'inginkan', 'ini', 'inikah', 'inilah', 'itu', 'itukah', 'itulah', 'jadi', 'jadilah', 'jadinya', 'jangan', 'jangankan', 'janganlah', 'jauh', 'jawab', 'jawaban', 'jawabnya', 'jelas', 'jelaskan', 'jelaslah', 'jelasnya', 'jika', 'jikalau', 'juga', 'jumlah', 'jumlahnya', 'justru', 'kala', 'kalau', 'kalaulah', 'kalaupun', 'kalian', 'kami', 'kamilah', 'kamu', 'kamulah', 'kan', 'kapan', 'kapankah', 'kapanpun', 'karena', 'karenanya', 'kasus', 'kata', 'katakan', 'katakanlah', 'katanya', 'ke', 'keadaan', 'kebetulan', 'kecil', 'kedua', 'keduanya', 'keinginan', 'kelamaan', 'kelihatan', 'kelihatannya', 'kelima', 'keluar', 'kembali', 'kemudian', 'kemungkinan', 'kemungkinannya', 'kenapa', 'kepada', 'kepadanya', 'kesampaian', 'keseluruhan', 'keseluruhannya', 'keterlaluan', 'ketika', 'khususnya', 'kini', 'kinilah', 'kira', 'kira-kira', 'kiranya', 'kita', 'kitalah', 'kok', 'kurang', 'lagi', 'lagian', 'lah', 'lain', 'lainnya', 'lalu', 'lama', 'lamanya', 'lanjut', 'lanjutnya', 'lebih', 'lewat', 'lima', 'luar', 'macam', 'maka', 'makanya', 'makin', 'malah', 'malahan', 'mampu', 'mampukah', 'mana', 'manakala', 'manalagi', 'masa', 'masalah', 'masalahnya', 'masih', 'masihkah', 'masing', 'masing-masing', 'mau', 'maupun', 'melainkan', 'melakukan', 'melalui', 'melihat', 'melihatnya', 'memang', 'memastikan', 'memberi', 'memberikan', 'membuat', 'memerlukan', 'memihak', 'meminta', 'memintakan', 'memisalkan', 'memperbuat', 'mempergunakan', 'memperkirakan', 'memperlihatkan', 'mempersiapkan', 'mempersoalkan', 'mempertanyakan', 'mempunyai', 'memulai', 'memungkinkan', 'menaiki', 'menambahkan', 'menandaskan', 'menanti', 'menanti-nanti', 'menantikan', 'menanya', 'menanyai', 'menanyakan', 'mendapat', 'mendapatkan', 'mendatang', 'mendatangi', 'mendatangkan', 'menegaskan', 'mengakhiri', 'mengapa', 'mengatakan', 'mengatakannya', 'mengenai', 'mengerjakan', 'mengetahui', 'menggunakan', 'menghendaki', 'mengibaratkan', 'mengibaratkannya', 'mengingat', 'mengingatkan', 'menginginkan', 'mengira', 'mengucapkan', 'mengucapkannya', 'mengungkapkan', 'menjadi', 'menjawab', 'menjelaskan', 'menuju', 'menunjuk', 'menunjuki', 'menunjukkan', 'menunjuknya', 'menurut', 'menuturkan', 'menyampaikan', 'menyangkut', 'menyatakan', 'menyebutkan', 'menyeluruh', 'menyiapkan', 'merasa', 'mereka', 'merekalah', 'merupakan', 'meski', 'meskipun', 'meyakini', 'meyakinkan', 'minta', 'mirip', 'misal', 'misalkan', 'misalnya', 'mula', 'mulai', 'mulailah', 'mulanya', 'mungkin', 'mungkinkah', 'nah', 'naik', 'namun', 'nanti', 'nantinya', 'nyaris', 'nyatanya', 'oleh', 'olehnya', 'pada', 'padahal', 'padanya', 'pak', 'paling', 'panjang', 'pantas', 'para', 'pasti', 'pastilah', 'penting', 'pentingnya', 'per', 'percuma', 'perlu', 'perlukah', 'perlunya', 'pernah', 'persoalan', 'pertama', 'pertama-tama', 'pertanyaan', 'pertanyakan', 'pihak', 'pihaknya', 'pukul', 'pula', 'pun', 'punya', 'rasa', 'rasanya', 'rata', 'rupanya', 'saat', 'saatnya', 'saja', 'sajalah', 'saling', 'sama', 'sama-sama', 'sambil', 'sampai', 'sampai-sampai', 'sampaikan', 'sana', 'sangat', 'sangatlah', 'satu', 'saya', 'sayalah', 'se', 'sebab', 'sebabnya', 'sebagai', 'sebagaimana', 'sebagainya', 'sebagian', 'sebaik', 'sebaik-baiknya', 'sebaiknya', 'sebaliknya', 'sebanyak', 'sebegini', 'sebegitu', 'sebelum', 'sebelumnya', 'sebenarnya', 'seberapa', 'sebesar', 'sebetulnya', 'sebisanya', 'sebuah', 'sebut', 'sebutlah', 'sebutnya', 'secara', 'secukupnya', 'sedang', 'sedangkan', 'sedemikian', 'sedikit', 'sedikitnya', 'seenaknya', 'segala', 'segalanya', 'segera', 'seharusnya', 'sehingga', 'seingat', 'sejak', 'sejauh', 'sejenak', 'sejumlah', 'sekadar', 'sekadarnya', 'sekali', 'sekali-kali', 'sekalian', 'sekaligus', 'sekalipun', 'sekarang', 'sekarang', 'sekecil', 'seketika', 'sekiranya', 'sekitar', 'sekitarnya', 'sekurang-kurangnya', 'sekurangnya', 'sela', 'selain', 'selaku', 'selalu', 'selama', 'selama-lamanya', 'selamanya', 'selanjutnya', 'seluruh', 'seluruhnya', 'semacam', 'semakin', 'semampu', 'semampunya', 'semasa', 'semasih', 'semata', 'semata-mata', 'semaunya', 'sementara', 'semisal', 'semisalnya', 'sempat', 'semua', 'semuanya', 'semula', 'sendiri', 'sendirian', 'sendirinya', 'seolah', 'seolah-olah', 'seorang', 'sepanjang', 'sepantasnya', 'sepantasnyalah', 'seperlunya', 'seperti', 'sepertinya', 'sepihak', 'sering', 'seringnya', 'serta', 'serupa', 'sesaat', 'sesama', 'sesampai', 'sesegera', 'sesekali', 'seseorang', 'sesuatu', 'sesuatunya', 'sesudah', 'sesudahnya', 'setelah', 'setempat', 'setengah', 'seterusnya', 'setiap', 'setiba', 'setibanya', 'setidak-tidaknya', 'setidaknya', 'setinggi', 'seusai', 'sewaktu', 'siap', 'siapa', 'siapakah', 'siapapun', 'sini', 'sinilah', 'soal', 'soalnya', 'suatu', 'sudah', 'sudahkah', 'sudahlah', 'supaya', 'tadi', 'tadinya', 'tahu', 'tahun', 'tak', 'tambah', 'tambahnya', 'tampak', 'tampaknya', 'tandas', 'tandasnya', 'tanpa', 'tanya', 'tanyakan', 'tanyanya', 'tapi', 'tegas', 'tegasnya', 'telah', 'tempat', 'tengah', 'tentang', 'tentu', 'tentulah', 'tentunya', 'tepat', 'terakhir', 'terasa', 'terbanyak', 'terdahulu', 'terdapat', 'terdiri', 'terhadap', 'terhadapnya', 'teringat', 'teringat-ingat', 'terjadi', 'terjadilah', 'terjadinya', 'terkira', 'terlalu', 'terlebih', 'terlihat', 'termasuk', 'ternyata', 'tersampaikan', 'tersebut', 'tersebutlah', 'tertentu', 'tertuju', 'terus', 'terutama', 'tetap', 'tetapi', 'tiap', 'tiba', 'tiba-tiba', 'tidak', 'tidakkah', 'tidaklah', 'tiga', 'tinggi', 'toh', 'tunjuk', 'turut', 'tutur', 'tuturnya', 'ucap', 'ucapnya', 'ujar', 'ujarnya', 'umum', 'umumnya', 'ungkap', 'ungkapnya', 'untuk', 'usah', 'usai', 'waduh', 'wah', 'wahai', 'waktu', 'waktunya', 'walau', 'walaupun', 'wong', 'yaitu', 'yakin', 'yakni', 'yang']\n"
     ]
    }
   ],
   "source": [
    "from nltk.tokenize import sent_tokenize, word_tokenize\n",
    "from nltk.corpus import stopwords\n",
    "\n",
    "\n",
    "stopwords_ind = stopwords.words('indonesian')\n",
    "print(stopwords_ind)"
   ]
  },
  {
   "cell_type": "code",
   "execution_count": 221,
   "metadata": {},
   "outputs": [
    {
     "data": {
      "text/html": [
       "<div>\n",
       "<style scoped>\n",
       "    .dataframe tbody tr th:only-of-type {\n",
       "        vertical-align: middle;\n",
       "    }\n",
       "\n",
       "    .dataframe tbody tr th {\n",
       "        vertical-align: top;\n",
       "    }\n",
       "\n",
       "    .dataframe thead th {\n",
       "        text-align: right;\n",
       "    }\n",
       "</style>\n",
       "<table border=\"1\" class=\"dataframe\">\n",
       "  <thead>\n",
       "    <tr style=\"text-align: right;\">\n",
       "      <th></th>\n",
       "      <th>refined_tweet</th>\n",
       "      <th>label</th>\n",
       "      <th>casefolding</th>\n",
       "      <th>textnormalize</th>\n",
       "      <th>stopwordremoval</th>\n",
       "    </tr>\n",
       "  </thead>\n",
       "  <tbody>\n",
       "    <tr>\n",
       "      <th>0</th>\n",
       "      <td>soal jalan jatibarupolisi bisa gertak gubernur...</td>\n",
       "      <td>anger</td>\n",
       "      <td>soal jalan jatibarupolisi bisa gertak gubernur...</td>\n",
       "      <td>soal jalan jatibarupolisi bisa gertak gubernur...</td>\n",
       "      <td>jalan jatibarupolisi gertak gubernur emangny p...</td>\n",
       "    </tr>\n",
       "    <tr>\n",
       "      <th>1</th>\n",
       "      <td>sesama cewek lho kayaknya harusnya rasain haru...</td>\n",
       "      <td>anger</td>\n",
       "      <td>sesama cewek lho kayaknya harusnya rasain haru...</td>\n",
       "      <td>sesama cewek lho kayaknya harusnya rasain haru...</td>\n",
       "      <td>cewek lho kayaknya rasain sibuk jaga rasain sa...</td>\n",
       "    </tr>\n",
       "    <tr>\n",
       "      <th>2</th>\n",
       "      <td>kepingin gudeg mbarek bu hj amad foto google s...</td>\n",
       "      <td>happy</td>\n",
       "      <td>kepingin gudeg mbarek bu hj amad foto google s...</td>\n",
       "      <td>kepingin gudeg mbarek bu hj amad foto google s...</td>\n",
       "      <td>kepingin gudeg mbarek bu hj amad foto google s...</td>\n",
       "    </tr>\n",
       "    <tr>\n",
       "      <th>3</th>\n",
       "      <td>jalan jatibarubagian wilayah tn abangpengatura...</td>\n",
       "      <td>anger</td>\n",
       "      <td>jalan jatibarubagian wilayah tn abangpengatura...</td>\n",
       "      <td>jalan jatibarubagian wilayah tn abangpengatura...</td>\n",
       "      <td>jalan jatibarubagian wilayah tn abangpengatura...</td>\n",
       "    </tr>\n",
       "    <tr>\n",
       "      <th>4</th>\n",
       "      <td>sharing pengalaman aja kemarin jam batalin tik...</td>\n",
       "      <td>happy</td>\n",
       "      <td>sharing pengalaman aja kemarin jam batalin tik...</td>\n",
       "      <td>sharing pengalaman saja kemarin jam batalin ti...</td>\n",
       "      <td>sharing pengalaman kemarin jam batalin tiket s...</td>\n",
       "    </tr>\n",
       "  </tbody>\n",
       "</table>\n",
       "</div>"
      ],
      "text/plain": [
       "                                       refined_tweet  label  \\\n",
       "0  soal jalan jatibarupolisi bisa gertak gubernur...  anger   \n",
       "1  sesama cewek lho kayaknya harusnya rasain haru...  anger   \n",
       "2  kepingin gudeg mbarek bu hj amad foto google s...  happy   \n",
       "3  jalan jatibarubagian wilayah tn abangpengatura...  anger   \n",
       "4  sharing pengalaman aja kemarin jam batalin tik...  happy   \n",
       "\n",
       "                                         casefolding  \\\n",
       "0  soal jalan jatibarupolisi bisa gertak gubernur...   \n",
       "1  sesama cewek lho kayaknya harusnya rasain haru...   \n",
       "2  kepingin gudeg mbarek bu hj amad foto google s...   \n",
       "3  jalan jatibarubagian wilayah tn abangpengatura...   \n",
       "4  sharing pengalaman aja kemarin jam batalin tik...   \n",
       "\n",
       "                                       textnormalize  \\\n",
       "0  soal jalan jatibarupolisi bisa gertak gubernur...   \n",
       "1  sesama cewek lho kayaknya harusnya rasain haru...   \n",
       "2  kepingin gudeg mbarek bu hj amad foto google s...   \n",
       "3  jalan jatibarubagian wilayah tn abangpengatura...   \n",
       "4  sharing pengalaman saja kemarin jam batalin ti...   \n",
       "\n",
       "                                     stopwordremoval  \n",
       "0  jalan jatibarupolisi gertak gubernur emangny p...  \n",
       "1  cewek lho kayaknya rasain sibuk jaga rasain sa...  \n",
       "2  kepingin gudeg mbarek bu hj amad foto google s...  \n",
       "3  jalan jatibarubagian wilayah tn abangpengatura...  \n",
       "4  sharing pengalaman kemarin jam batalin tiket s...  "
      ]
     },
     "execution_count": 221,
     "metadata": {},
     "output_type": "execute_result"
    }
   ],
   "source": [
    "def remove_stop_words(text):\n",
    "    clean_words = []\n",
    "    text = text.split()\n",
    "    for word in text:\n",
    "        if word not in stopwords_ind:\n",
    "            clean_words.append(word)\n",
    "    return \" \".join(clean_words)\n",
    "data['stopwordremoval'] = data['textnormalize'].apply(remove_stop_words)\n",
    "data.head()"
   ]
  },
  {
   "cell_type": "code",
   "execution_count": 222,
   "metadata": {},
   "outputs": [
    {
     "name": "stderr",
     "output_type": "stream",
     "text": [
      "100%|██████████| 4401/4401 [11:51<00:00,  6.18it/s]\n"
     ]
    },
    {
     "data": {
      "text/html": [
       "<div>\n",
       "<style scoped>\n",
       "    .dataframe tbody tr th:only-of-type {\n",
       "        vertical-align: middle;\n",
       "    }\n",
       "\n",
       "    .dataframe tbody tr th {\n",
       "        vertical-align: top;\n",
       "    }\n",
       "\n",
       "    .dataframe thead th {\n",
       "        text-align: right;\n",
       "    }\n",
       "</style>\n",
       "<table border=\"1\" class=\"dataframe\">\n",
       "  <thead>\n",
       "    <tr style=\"text-align: right;\">\n",
       "      <th></th>\n",
       "      <th>refined_tweet</th>\n",
       "      <th>label</th>\n",
       "      <th>casefolding</th>\n",
       "      <th>textnormalize</th>\n",
       "      <th>stopwordremoval</th>\n",
       "      <th>stemming</th>\n",
       "    </tr>\n",
       "  </thead>\n",
       "  <tbody>\n",
       "    <tr>\n",
       "      <th>0</th>\n",
       "      <td>soal jalan jatibarupolisi bisa gertak gubernur...</td>\n",
       "      <td>anger</td>\n",
       "      <td>soal jalan jatibarupolisi bisa gertak gubernur...</td>\n",
       "      <td>soal jalan jatibarupolisi bisa gertak gubernur...</td>\n",
       "      <td>jalan jatibarupolisi gertak gubernur emangny p...</td>\n",
       "      <td>jalan jatibarupolisi gertak gubernur emangny p...</td>\n",
       "    </tr>\n",
       "    <tr>\n",
       "      <th>1</th>\n",
       "      <td>sesama cewek lho kayaknya harusnya rasain haru...</td>\n",
       "      <td>anger</td>\n",
       "      <td>sesama cewek lho kayaknya harusnya rasain haru...</td>\n",
       "      <td>sesama cewek lho kayaknya harusnya rasain haru...</td>\n",
       "      <td>cewek lho kayaknya rasain sibuk jaga rasain sa...</td>\n",
       "      <td>cewek lho kayak rasain sibuk jaga rasain sakit...</td>\n",
       "    </tr>\n",
       "    <tr>\n",
       "      <th>2</th>\n",
       "      <td>kepingin gudeg mbarek bu hj amad foto google s...</td>\n",
       "      <td>happy</td>\n",
       "      <td>kepingin gudeg mbarek bu hj amad foto google s...</td>\n",
       "      <td>kepingin gudeg mbarek bu hj amad foto google s...</td>\n",
       "      <td>kepingin gudeg mbarek bu hj amad foto google s...</td>\n",
       "      <td>kepingin gudeg mbarek bu hj amad foto google s...</td>\n",
       "    </tr>\n",
       "    <tr>\n",
       "      <th>3</th>\n",
       "      <td>jalan jatibarubagian wilayah tn abangpengatura...</td>\n",
       "      <td>anger</td>\n",
       "      <td>jalan jatibarubagian wilayah tn abangpengatura...</td>\n",
       "      <td>jalan jatibarubagian wilayah tn abangpengatura...</td>\n",
       "      <td>jalan jatibarubagian wilayah tn abangpengatura...</td>\n",
       "      <td>jalan jatibarubagian wilayah tn abangpengatura...</td>\n",
       "    </tr>\n",
       "    <tr>\n",
       "      <th>4</th>\n",
       "      <td>sharing pengalaman aja kemarin jam batalin tik...</td>\n",
       "      <td>happy</td>\n",
       "      <td>sharing pengalaman aja kemarin jam batalin tik...</td>\n",
       "      <td>sharing pengalaman saja kemarin jam batalin ti...</td>\n",
       "      <td>sharing pengalaman kemarin jam batalin tiket s...</td>\n",
       "      <td>sharing alam kemarin jam batalin tiket stasiun...</td>\n",
       "    </tr>\n",
       "  </tbody>\n",
       "</table>\n",
       "</div>"
      ],
      "text/plain": [
       "                                       refined_tweet  label  \\\n",
       "0  soal jalan jatibarupolisi bisa gertak gubernur...  anger   \n",
       "1  sesama cewek lho kayaknya harusnya rasain haru...  anger   \n",
       "2  kepingin gudeg mbarek bu hj amad foto google s...  happy   \n",
       "3  jalan jatibarubagian wilayah tn abangpengatura...  anger   \n",
       "4  sharing pengalaman aja kemarin jam batalin tik...  happy   \n",
       "\n",
       "                                         casefolding  \\\n",
       "0  soal jalan jatibarupolisi bisa gertak gubernur...   \n",
       "1  sesama cewek lho kayaknya harusnya rasain haru...   \n",
       "2  kepingin gudeg mbarek bu hj amad foto google s...   \n",
       "3  jalan jatibarubagian wilayah tn abangpengatura...   \n",
       "4  sharing pengalaman aja kemarin jam batalin tik...   \n",
       "\n",
       "                                       textnormalize  \\\n",
       "0  soal jalan jatibarupolisi bisa gertak gubernur...   \n",
       "1  sesama cewek lho kayaknya harusnya rasain haru...   \n",
       "2  kepingin gudeg mbarek bu hj amad foto google s...   \n",
       "3  jalan jatibarubagian wilayah tn abangpengatura...   \n",
       "4  sharing pengalaman saja kemarin jam batalin ti...   \n",
       "\n",
       "                                     stopwordremoval  \\\n",
       "0  jalan jatibarupolisi gertak gubernur emangny p...   \n",
       "1  cewek lho kayaknya rasain sibuk jaga rasain sa...   \n",
       "2  kepingin gudeg mbarek bu hj amad foto google s...   \n",
       "3  jalan jatibarubagian wilayah tn abangpengatura...   \n",
       "4  sharing pengalaman kemarin jam batalin tiket s...   \n",
       "\n",
       "                                            stemming  \n",
       "0  jalan jatibarupolisi gertak gubernur emangny p...  \n",
       "1  cewek lho kayak rasain sibuk jaga rasain sakit...  \n",
       "2  kepingin gudeg mbarek bu hj amad foto google s...  \n",
       "3  jalan jatibarubagian wilayah tn abangpengatura...  \n",
       "4  sharing alam kemarin jam batalin tiket stasiun...  "
      ]
     },
     "execution_count": 222,
     "metadata": {},
     "output_type": "execute_result"
    }
   ],
   "source": [
    "from tqdm import tqdm\n",
    "from Sastrawi.Stemmer.StemmerFactory import StemmerFactory\n",
    "\n",
    "# Set up the stemming factory\n",
    "factory = StemmerFactory()\n",
    "stemmer = factory.create_stemmer()\n",
    "\n",
    "# Buat fungsi untuk langkah stemming bahasa Indonesia\n",
    "def stemming(text):\n",
    "    return stemmer.stem(text)\n",
    "\n",
    "# Tambahkan support untuk tqdm pada pandas\n",
    "tqdm.pandas()\n",
    "\n",
    "# Terapkan stemming dengan tqdm untuk melihat progress\n",
    "data['stemming'] = data['stopwordremoval'].progress_apply(stemming)\n",
    "\n",
    "\n",
    "# Lihat hasilnya\n",
    "data.head()"
   ]
  },
  {
   "cell_type": "code",
   "execution_count": 223,
   "metadata": {},
   "outputs": [
    {
     "data": {
      "text/html": [
       "<div>\n",
       "<style scoped>\n",
       "    .dataframe tbody tr th:only-of-type {\n",
       "        vertical-align: middle;\n",
       "    }\n",
       "\n",
       "    .dataframe tbody tr th {\n",
       "        vertical-align: top;\n",
       "    }\n",
       "\n",
       "    .dataframe thead th {\n",
       "        text-align: right;\n",
       "    }\n",
       "</style>\n",
       "<table border=\"1\" class=\"dataframe\">\n",
       "  <thead>\n",
       "    <tr style=\"text-align: right;\">\n",
       "      <th></th>\n",
       "      <th>refined_tweet</th>\n",
       "      <th>label</th>\n",
       "      <th>clean_text</th>\n",
       "    </tr>\n",
       "  </thead>\n",
       "  <tbody>\n",
       "    <tr>\n",
       "      <th>0</th>\n",
       "      <td>soal jalan jatibarupolisi bisa gertak gubernur...</td>\n",
       "      <td>anger</td>\n",
       "      <td>jalan jatibarupolisi gertak gubernur emangny p...</td>\n",
       "    </tr>\n",
       "    <tr>\n",
       "      <th>1</th>\n",
       "      <td>sesama cewek lho kayaknya harusnya rasain haru...</td>\n",
       "      <td>anger</td>\n",
       "      <td>cewek lho kayak rasain sibuk jaga rasain sakit...</td>\n",
       "    </tr>\n",
       "    <tr>\n",
       "      <th>2</th>\n",
       "      <td>kepingin gudeg mbarek bu hj amad foto google s...</td>\n",
       "      <td>happy</td>\n",
       "      <td>kepingin gudeg mbarek bu hj amad foto google s...</td>\n",
       "    </tr>\n",
       "    <tr>\n",
       "      <th>3</th>\n",
       "      <td>jalan jatibarubagian wilayah tn abangpengatura...</td>\n",
       "      <td>anger</td>\n",
       "      <td>jalan jatibarubagian wilayah tn abangpengatura...</td>\n",
       "    </tr>\n",
       "    <tr>\n",
       "      <th>4</th>\n",
       "      <td>sharing pengalaman aja kemarin jam batalin tik...</td>\n",
       "      <td>happy</td>\n",
       "      <td>sharing alam kemarin jam batalin tiket stasiun...</td>\n",
       "    </tr>\n",
       "  </tbody>\n",
       "</table>\n",
       "</div>"
      ],
      "text/plain": [
       "                                       refined_tweet  label  \\\n",
       "0  soal jalan jatibarupolisi bisa gertak gubernur...  anger   \n",
       "1  sesama cewek lho kayaknya harusnya rasain haru...  anger   \n",
       "2  kepingin gudeg mbarek bu hj amad foto google s...  happy   \n",
       "3  jalan jatibarubagian wilayah tn abangpengatura...  anger   \n",
       "4  sharing pengalaman aja kemarin jam batalin tik...  happy   \n",
       "\n",
       "                                          clean_text  \n",
       "0  jalan jatibarupolisi gertak gubernur emangny p...  \n",
       "1  cewek lho kayak rasain sibuk jaga rasain sakit...  \n",
       "2  kepingin gudeg mbarek bu hj amad foto google s...  \n",
       "3  jalan jatibarubagian wilayah tn abangpengatura...  \n",
       "4  sharing alam kemarin jam batalin tiket stasiun...  "
      ]
     },
     "execution_count": 223,
     "metadata": {},
     "output_type": "execute_result"
    }
   ],
   "source": [
    "data[\"clean_text\"] = data['stemming']\n",
    "data.drop([\"casefolding\",\"textnormalize\",\"stopwordremoval\",\"stemming\"],axis=1,inplace=True)\n",
    "data.head()"
   ]
  },
  {
   "cell_type": "markdown",
   "metadata": {
    "id": "Bz18soU35pq4"
   },
   "source": [
    "## Data Preprocessing\n",
    "\n",
    "Pada tahap ini akan dilakukan encoding, atau kodifikasi kolom `label` menjadi numerikal agar dapat diproses lebih lanjut"
   ]
  },
  {
   "cell_type": "markdown",
   "metadata": {
    "id": "DOAi01Um578j"
   },
   "source": [
    "### 1. Label Encoding"
   ]
  },
  {
   "cell_type": "code",
   "execution_count": 224,
   "metadata": {
    "colab": {
     "base_uri": "https://localhost:8080/"
    },
    "id": "upATW9gEzomL",
    "outputId": "fc2b2e98-ae67-423a-b3bc-99befe54143d"
   },
   "outputs": [],
   "source": [
    "import warnings \n",
    "warnings.filterwarnings('ignore')\n",
    "\n",
    "label_encoder = LabelEncoder()\n",
    "data['label'] = label_encoder.fit_transform(data['label'])  # Mengubah label ke bentuk numerik\n",
    "num_classes = len(label_encoder.classes_)"
   ]
  },
  {
   "cell_type": "code",
   "execution_count": 225,
   "metadata": {
    "colab": {
     "base_uri": "https://localhost:8080/",
     "height": 206
    },
    "id": "Vc0H42DbztYE",
    "outputId": "a086fec3-99e4-489b-c8fd-9c189cb128e7"
   },
   "outputs": [
    {
     "data": {
      "text/html": [
       "<div>\n",
       "<style scoped>\n",
       "    .dataframe tbody tr th:only-of-type {\n",
       "        vertical-align: middle;\n",
       "    }\n",
       "\n",
       "    .dataframe tbody tr th {\n",
       "        vertical-align: top;\n",
       "    }\n",
       "\n",
       "    .dataframe thead th {\n",
       "        text-align: right;\n",
       "    }\n",
       "</style>\n",
       "<table border=\"1\" class=\"dataframe\">\n",
       "  <thead>\n",
       "    <tr style=\"text-align: right;\">\n",
       "      <th></th>\n",
       "      <th>refined_tweet</th>\n",
       "      <th>label</th>\n",
       "      <th>clean_text</th>\n",
       "    </tr>\n",
       "  </thead>\n",
       "  <tbody>\n",
       "    <tr>\n",
       "      <th>0</th>\n",
       "      <td>soal jalan jatibarupolisi bisa gertak gubernur...</td>\n",
       "      <td>0</td>\n",
       "      <td>jalan jatibarupolisi gertak gubernur emangny p...</td>\n",
       "    </tr>\n",
       "    <tr>\n",
       "      <th>1</th>\n",
       "      <td>sesama cewek lho kayaknya harusnya rasain haru...</td>\n",
       "      <td>0</td>\n",
       "      <td>cewek lho kayak rasain sibuk jaga rasain sakit...</td>\n",
       "    </tr>\n",
       "    <tr>\n",
       "      <th>2</th>\n",
       "      <td>kepingin gudeg mbarek bu hj amad foto google s...</td>\n",
       "      <td>2</td>\n",
       "      <td>kepingin gudeg mbarek bu hj amad foto google s...</td>\n",
       "    </tr>\n",
       "    <tr>\n",
       "      <th>3</th>\n",
       "      <td>jalan jatibarubagian wilayah tn abangpengatura...</td>\n",
       "      <td>0</td>\n",
       "      <td>jalan jatibarubagian wilayah tn abangpengatura...</td>\n",
       "    </tr>\n",
       "    <tr>\n",
       "      <th>4</th>\n",
       "      <td>sharing pengalaman aja kemarin jam batalin tik...</td>\n",
       "      <td>2</td>\n",
       "      <td>sharing alam kemarin jam batalin tiket stasiun...</td>\n",
       "    </tr>\n",
       "  </tbody>\n",
       "</table>\n",
       "</div>"
      ],
      "text/plain": [
       "                                       refined_tweet  label  \\\n",
       "0  soal jalan jatibarupolisi bisa gertak gubernur...      0   \n",
       "1  sesama cewek lho kayaknya harusnya rasain haru...      0   \n",
       "2  kepingin gudeg mbarek bu hj amad foto google s...      2   \n",
       "3  jalan jatibarubagian wilayah tn abangpengatura...      0   \n",
       "4  sharing pengalaman aja kemarin jam batalin tik...      2   \n",
       "\n",
       "                                          clean_text  \n",
       "0  jalan jatibarupolisi gertak gubernur emangny p...  \n",
       "1  cewek lho kayak rasain sibuk jaga rasain sakit...  \n",
       "2  kepingin gudeg mbarek bu hj amad foto google s...  \n",
       "3  jalan jatibarubagian wilayah tn abangpengatura...  \n",
       "4  sharing alam kemarin jam batalin tiket stasiun...  "
      ]
     },
     "execution_count": 225,
     "metadata": {},
     "output_type": "execute_result"
    }
   ],
   "source": [
    "data.head()"
   ]
  },
  {
   "cell_type": "code",
   "execution_count": 226,
   "metadata": {
    "colab": {
     "base_uri": "https://localhost:8080/"
    },
    "id": "UNSAjfB64Uo4",
    "outputId": "3118c1e6-b3bd-496e-ec7d-21277699c651"
   },
   "outputs": [
    {
     "name": "stdout",
     "output_type": "stream",
     "text": [
      "<class 'pandas.core.frame.DataFrame'>\n",
      "RangeIndex: 4401 entries, 0 to 4400\n",
      "Data columns (total 3 columns):\n",
      " #   Column         Non-Null Count  Dtype \n",
      "---  ------         --------------  ----- \n",
      " 0   refined_tweet  4401 non-null   object\n",
      " 1   label          4401 non-null   int32 \n",
      " 2   clean_text     4401 non-null   object\n",
      "dtypes: int32(1), object(2)\n",
      "memory usage: 86.1+ KB\n"
     ]
    }
   ],
   "source": [
    "data.info()"
   ]
  },
  {
   "cell_type": "markdown",
   "metadata": {
    "id": "tYvPxvCw56rT"
   },
   "source": [
    "### 2. Tokenisasi dan Padding"
   ]
  },
  {
   "cell_type": "markdown",
   "metadata": {
    "id": "JmZV2NIs6Egm"
   },
   "source": [
    "Tokenisasi adalah proses mengubah teks(kata) menjadi angka dalam sekumpulan kata-kata (kamus). Kemudian padding adalah proses penyamaan panjang token dalam satu barisan data. Dalam konteks ini, setelah kalimat ditokenisasi, maka panjang barisan datanya diseragamkan dengan melakukan padding"
   ]
  },
  {
   "cell_type": "code",
   "execution_count": 227,
   "metadata": {
    "id": "Zia1PA4gzyYo"
   },
   "outputs": [],
   "source": [
    "# max_words = 50000  # Jumlah kata unik maksimum\n",
    "# max_len = 100      # Panjang maksimum sekuens\n",
    "\n",
    "# tokenizer = Tokenizer(num_words=max_words, oov_token=\"<OOV>\")\n",
    "# tokenizer.fit_on_texts(data['clean_text'])\n",
    "# sequences = tokenizer.texts_to_sequences(data['clean_text'])\n",
    "# padded_sequences = pad_sequences(sequences, maxlen=max_len, padding='post', truncating='post')"
   ]
  },
  {
   "cell_type": "markdown",
   "metadata": {
    "id": "RONxEmsC6isb"
   },
   "source": [
    "### 3. Split Data"
   ]
  },
  {
   "cell_type": "code",
   "execution_count": 376,
   "metadata": {
    "id": "Mpd9UhNKz5VZ"
   },
   "outputs": [],
   "source": [
    "X_train, X_test, y_train, y_test = train_test_split(\n",
    "    data['clean_text'], data['label'], test_size=0.2, random_state=42\n",
    ")"
   ]
  },
  {
   "cell_type": "markdown",
   "metadata": {},
   "source": [
    "### 4. TF-IDF"
   ]
  },
  {
   "cell_type": "code",
   "execution_count": 377,
   "metadata": {},
   "outputs": [],
   "source": [
    "from sklearn.feature_extraction.text import TfidfVectorizer\n",
    "\n",
    "tfidf_vectorizer = TfidfVectorizer(max_features=10000)  # Set max features for TF-IDF\n",
    "X_train_tfidf = tfidf_vectorizer.fit_transform(X_train).toarray()\n",
    "X_test_tfidf = tfidf_vectorizer.transform(X_test).toarray()"
   ]
  },
  {
   "cell_type": "markdown",
   "metadata": {},
   "source": [
    "### 5. Feature Selection Chi-Square"
   ]
  },
  {
   "cell_type": "code",
   "execution_count": 378,
   "metadata": {},
   "outputs": [],
   "source": [
    "from sklearn.feature_selection import SelectKBest\n",
    "from sklearn.feature_selection import chi2\n",
    "\n",
    "# Seleksi fitur menggunakan Chi-Square\n",
    "selector = SelectKBest(chi2, k=7500)  # Pilih 7500 fitur terbaik berdasarkan Chi-Square\n",
    "X_train_tfidf = selector.fit_transform(X_train_tfidf, y_train)\n",
    "X_test_tfidf = selector.transform(X_test_tfidf)\n"
   ]
  },
  {
   "cell_type": "markdown",
   "metadata": {},
   "source": [
    "### 6. Model GRU"
   ]
  },
  {
   "cell_type": "code",
   "execution_count": 380,
   "metadata": {},
   "outputs": [],
   "source": [
    "from tensorflow.keras.layers import Input\n",
    "\n",
    "# Encode labels\n",
    "label_encoder = LabelEncoder()\n",
    "y_train_encoded = label_encoder.fit_transform(y_train)\n",
    "y_test_encoded = label_encoder.transform(y_test)\n",
    "\n",
    "# Convert labels to one-hot encoding\n",
    "y_train_one_hot = tf.keras.utils.to_categorical(y_train_encoded)\n",
    "y_test_one_hot = tf.keras.utils.to_categorical(y_test_encoded)\n",
    "\n",
    "# Model Input\n",
    "# input_dim = X_train_tfidf.shape[1]  # Number of TF-IDF features\n",
    "# input_layer = Input(shape=(input_dim,))"
   ]
  },
  {
   "cell_type": "code",
   "execution_count": 393,
   "metadata": {},
   "outputs": [
    {
     "name": "stdout",
     "output_type": "stream",
     "text": [
      "Epoch 1/10\n",
      "110/110 [==============================] - 24s 201ms/step - loss: 1.6072 - accuracy: 0.2364 - val_loss: 1.6024 - val_accuracy: 0.2599\n",
      "Epoch 2/10\n",
      "110/110 [==============================] - 21s 193ms/step - loss: 1.5995 - accuracy: 0.2517 - val_loss: 1.5921 - val_accuracy: 0.2599\n",
      "Epoch 3/10\n",
      "110/110 [==============================] - 21s 192ms/step - loss: 1.5874 - accuracy: 0.2514 - val_loss: 1.5756 - val_accuracy: 0.2599\n",
      "Epoch 4/10\n",
      "110/110 [==============================] - 21s 193ms/step - loss: 1.5688 - accuracy: 0.2551 - val_loss: 1.5512 - val_accuracy: 0.2599\n",
      "Epoch 5/10\n",
      "110/110 [==============================] - 21s 193ms/step - loss: 1.5366 - accuracy: 0.2702 - val_loss: 1.5152 - val_accuracy: 0.2974\n",
      "Epoch 6/10\n",
      "110/110 [==============================] - 22s 199ms/step - loss: 1.4733 - accuracy: 0.3682 - val_loss: 1.4503 - val_accuracy: 0.4132\n",
      "Epoch 7/10\n",
      "110/110 [==============================] - 22s 198ms/step - loss: 1.3639 - accuracy: 0.5202 - val_loss: 1.3476 - val_accuracy: 0.5153\n",
      "Epoch 8/10\n",
      "110/110 [==============================] - 22s 199ms/step - loss: 1.1996 - accuracy: 0.6349 - val_loss: 1.2269 - val_accuracy: 0.6061\n",
      "Epoch 9/10\n",
      "110/110 [==============================] - 24s 214ms/step - loss: 1.0199 - accuracy: 0.7372 - val_loss: 1.1204 - val_accuracy: 0.6334\n",
      "Epoch 10/10\n",
      "110/110 [==============================] - 23s 209ms/step - loss: 0.8538 - accuracy: 0.7835 - val_loss: 1.0413 - val_accuracy: 0.6549\n"
     ]
    }
   ],
   "source": [
    "import tensorflow as tf\n",
    "from tensorflow.keras.layers import Dense, Dropout\n",
    "from tensorflow.keras.models import Model\n",
    "from tensorflow.keras.optimizers import Adam\n",
    "\n",
    "# Reshape input data untuk GRU (tambahkan dimensi ketiga untuk timesteps)\n",
    "X_train_tfidf_reshaped = X_train_tfidf.reshape(X_train_tfidf.shape[0], 1, X_train_tfidf.shape[1])\n",
    "X_test_tfidf_reshaped = X_test_tfidf.reshape(X_test_tfidf.shape[0], 1, X_test_tfidf.shape[1])\n",
    "\n",
    "# Model Input\n",
    "input_dim = X_train_tfidf_reshaped.shape[2]  # Number of TF-IDF features\n",
    "input_layer = Input(shape=(1, input_dim))  # Tambahkan dimensi untuk timesteps\n",
    "\n",
    "# Model dengan GRU\n",
    "x = GRU(512, activation='relu', return_sequences=True)(input_layer)\n",
    "x = Dropout(0.6)(x)\n",
    "x = GRU(256, activation='relu', return_sequences=False)(x)\n",
    "x = Dropout(0.6)(x)\n",
    "x = Dense(5, activation='softmax')(x)\n",
    "\n",
    "model = Model(input_layer, x)\n",
    "\n",
    "# Compile Model\n",
    "learning_rate = 0.0001\n",
    "optimizer = Adam(learning_rate=learning_rate)\n",
    "model.compile(optimizer=optimizer, loss='categorical_crossentropy', metrics=['accuracy'])\n",
    "\n",
    "# Train Model\n",
    "history = model.fit(X_train_tfidf_reshaped, y_train_one_hot, epochs=10, validation_data=(X_test_tfidf_reshaped, y_test_one_hot))\n"
   ]
  },
  {
   "cell_type": "code",
   "execution_count": 394,
   "metadata": {},
   "outputs": [
    {
     "name": "stdout",
     "output_type": "stream",
     "text": [
      "28/28 [==============================] - 1s 28ms/step - loss: 1.0413 - accuracy: 0.6549\n",
      "Test Loss: 1.0412676334381104\n",
      "Test Accuracy: 0.6549375653266907\n"
     ]
    }
   ],
   "source": [
    "# Evaluate model\n",
    "loss, accuracy = model.evaluate(X_test_tfidf_reshaped, y_test_one_hot, verbose=1)\n",
    "print(f\"Test Loss: {loss}\")\n",
    "print(f\"Test Accuracy: {accuracy}\")\n"
   ]
  },
  {
   "cell_type": "code",
   "execution_count": 395,
   "metadata": {
    "colab": {
     "base_uri": "https://localhost:8080/"
    },
    "id": "mN-gFXR03w9f",
    "outputId": "2d3da22b-a59e-4728-e35b-586df5f51534"
   },
   "outputs": [
    {
     "data": {
      "image/png": "[encoded data removed]",
      "text/plain": [
       "<Figure size 640x480 with 1 Axes>"
      ]
     },
     "metadata": {},
     "output_type": "display_data"
    },
    {
     "data": {
      "image/png": "[encoded data removed]",
      "text/plain": [
       "<Figure size 640x480 with 1 Axes>"
      ]
     },
     "metadata": {},
     "output_type": "display_data"
    }
   ],
   "source": [
    "import matplotlib.pyplot as plt\n",
    "\n",
    "# Plot training & validation accuracy values\n",
    "plt.plot(history.history['accuracy'])\n",
    "plt.plot(history.history['val_accuracy'])\n",
    "plt.title('Model accuracy')\n",
    "plt.xlabel('Epoch')\n",
    "plt.ylabel('Accuracy')\n",
    "plt.legend(['Train', 'Test'], loc='upper left')\n",
    "plt.show()\n",
    "\n",
    "# Plot training & validation loss values\n",
    "plt.plot(history.history['loss'])\n",
    "plt.plot(history.history['val_loss'])\n",
    "plt.title('Model loss')\n",
    "plt.xlabel('Epoch')\n",
    "plt.ylabel('Loss')\n",
    "plt.legend(['Train', 'Test'], loc='upper left')\n",
    "plt.show()"
   ]
  },
  {
   "cell_type": "code",
   "execution_count": 389,
   "metadata": {},
   "outputs": [
    {
     "name": "stdout",
     "output_type": "stream",
     "text": [
      "28/28 [==============================] - 1s 22ms/step\n"
     ]
    },
    {
     "data": {
      "image/png": "[encoded data removed]",
      "text/plain": [
       "<Figure size 800x600 with 2 Axes>"
      ]
     },
     "metadata": {},
     "output_type": "display_data"
    }
   ],
   "source": [
    "import seaborn as sns\n",
    "from sklearn.metrics import confusion_matrix\n",
    "\n",
    "\n",
    "y_pred_probs = model.predict(X_test_tfidf_reshaped)\n",
    "y_pred_labels = np.argmax(y_pred_probs, axis=1)\n",
    "y_true_labels = np.argmax(y_test_one_hot, axis=1)\n",
    "conf_matrix = confusion_matrix(y_true_labels, y_pred_labels)\n",
    "\n",
    "emotion_labels = ['anger', 'fear', 'happy', 'love', 'sadness']\n",
    "\n",
    "plt.figure(figsize=(8, 6))\n",
    "sns.heatmap(conf_matrix, annot=True, fmt='d', cmap='Blues', \n",
    "            xticklabels=emotion_labels, \n",
    "            yticklabels=emotion_labels)\n",
    "plt.xlabel('Predicted')\n",
    "plt.ylabel('True')\n",
    "plt.title('Confusion Matrix')\n",
    "plt.show()"
   ]
  }
 ],
 "metadata": {
  "accelerator": "GPU",
  "colab": {
   "gpuType": "T4",
   "provenance": [],
   "toc_visible": true
  },
  "kernelspec": {
   "display_name": "Python 3",
   "name": "python3"
  },
  "language_info": {
   "codemirror_mode": {
    "name": "ipython",
    "version": 3
   },
   "file_extension": ".py",
   "mimetype": "text/x-python",
   "name": "python",
   "nbconvert_exporter": "python",
   "pygments_lexer": "ipython3",
   "version": "3.11.5"
  }
 },
 "nbformat": 4,
 "nbformat_minor": 0
}

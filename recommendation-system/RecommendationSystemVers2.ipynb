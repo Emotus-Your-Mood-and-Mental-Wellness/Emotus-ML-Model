{
  "nbformat": 4,
  "nbformat_minor": 0,
  "metadata": {
    "colab": {
      "provenance": []
    },
    "kernelspec": {
      "name": "python3",
      "display_name": "Python 3"
    },
    "language_info": {
      "name": "python"
    }
  },
  "cells": [
    {
      "cell_type": "markdown",
      "source": [
        "# Load Classification Model"
      ],
      "metadata": {
        "id": "DQgvwNPMDzOA"
      }
    },
    {
      "cell_type": "code",
      "execution_count": 1,
      "metadata": {
        "id": "ZNOS4-a6SPMV"
      },
      "outputs": [],
      "source": [
        "import pandas as pd\n",
        "import numpy as np\n",
        "from tensorflow.keras.preprocessing.text import Tokenizer\n",
        "from tensorflow.keras.preprocessing.sequence import pad_sequences\n",
        "from sklearn.preprocessing import LabelEncoder"
      ]
    },
    {
      "cell_type": "code",
      "source": [
        "from google.colab import drive\n",
        "drive.mount('/content/drive')"
      ],
      "metadata": {
        "colab": {
          "base_uri": "https://localhost:8080/"
        },
        "id": "-Ic7fwAKXeMY",
        "outputId": "94cd3e66-8f47-4911-86d7-8273bb62b510"
      },
      "execution_count": 2,
      "outputs": [
        {
          "output_type": "stream",
          "name": "stdout",
          "text": [
            "Drive already mounted at /content/drive; to attempt to forcibly remount, call drive.mount(\"/content/drive\", force_remount=True).\n"
          ]
        }
      ]
    },
    {
      "cell_type": "code",
      "source": [
        "df = pd.read_csv('/content/drive/MyDrive/preprocessed_dataset_adjustdikit.csv')\n",
        "df.head()"
      ],
      "metadata": {
        "colab": {
          "base_uri": "https://localhost:8080/",
          "height": 206
        },
        "id": "8aeN4YL_SrFp",
        "outputId": "52a285ba-8ed3-4f57-e056-ac1753f785b2"
      },
      "execution_count": 3,
      "outputs": [
        {
          "output_type": "execute_result",
          "data": {
            "text/plain": [
              "   label                                              tweet  \\\n",
              "0  anger  soal jalan jatibarupolisi bisa gertak gubernur...   \n",
              "1  anger  sesama cewek lho kayaknya harusnya lebih rasai...   \n",
              "2  happy  kepingin gudeg mbarek bu hj amad foto google s...   \n",
              "3  anger  jalan jatibarubagian wilayah tn abangpengatura...   \n",
              "4  happy  sharing pengalaman aja kemarin jam batalin tik...   \n",
              "\n",
              "                                       refined_tweet  \n",
              "0  soal jalan jatibarupolisi bisa gertak gubernur...  \n",
              "1  sesama cewek lho kayaknya harusnya rasain haru...  \n",
              "2  kepingin gudeg mbarek bu hj amad foto google s...  \n",
              "3  jalan jatibarubagian wilayah tn abangpengatura...  \n",
              "4  sharing pengalaman aja kemarin jam batalin tik...  "
            ],
            "text/html": [
              "\n",
              "  <div id=\"df-537b3a5f-9ed2-4f53-90f5-64aa12f5ce14\" class=\"colab-df-container\">\n",
              "    <div>\n",
              "<style scoped>\n",
              "    .dataframe tbody tr th:only-of-type {\n",
              "        vertical-align: middle;\n",
              "    }\n",
              "\n",
              "    .dataframe tbody tr th {\n",
              "        vertical-align: top;\n",
              "    }\n",
              "\n",
              "    .dataframe thead th {\n",
              "        text-align: right;\n",
              "    }\n",
              "</style>\n",
              "<table border=\"1\" class=\"dataframe\">\n",
              "  <thead>\n",
              "    <tr style=\"text-align: right;\">\n",
              "      <th></th>\n",
              "      <th>label</th>\n",
              "      <th>tweet</th>\n",
              "      <th>refined_tweet</th>\n",
              "    </tr>\n",
              "  </thead>\n",
              "  <tbody>\n",
              "    <tr>\n",
              "      <th>0</th>\n",
              "      <td>anger</td>\n",
              "      <td>soal jalan jatibarupolisi bisa gertak gubernur...</td>\n",
              "      <td>soal jalan jatibarupolisi bisa gertak gubernur...</td>\n",
              "    </tr>\n",
              "    <tr>\n",
              "      <th>1</th>\n",
              "      <td>anger</td>\n",
              "      <td>sesama cewek lho kayaknya harusnya lebih rasai...</td>\n",
              "      <td>sesama cewek lho kayaknya harusnya rasain haru...</td>\n",
              "    </tr>\n",
              "    <tr>\n",
              "      <th>2</th>\n",
              "      <td>happy</td>\n",
              "      <td>kepingin gudeg mbarek bu hj amad foto google s...</td>\n",
              "      <td>kepingin gudeg mbarek bu hj amad foto google s...</td>\n",
              "    </tr>\n",
              "    <tr>\n",
              "      <th>3</th>\n",
              "      <td>anger</td>\n",
              "      <td>jalan jatibarubagian wilayah tn abangpengatura...</td>\n",
              "      <td>jalan jatibarubagian wilayah tn abangpengatura...</td>\n",
              "    </tr>\n",
              "    <tr>\n",
              "      <th>4</th>\n",
              "      <td>happy</td>\n",
              "      <td>sharing pengalaman aja kemarin jam batalin tik...</td>\n",
              "      <td>sharing pengalaman aja kemarin jam batalin tik...</td>\n",
              "    </tr>\n",
              "  </tbody>\n",
              "</table>\n",
              "</div>\n",
              "    <div class=\"colab-df-buttons\">\n",
              "\n",
              "  <div class=\"colab-df-container\">\n",
              "    <button class=\"colab-df-convert\" onclick=\"convertToInteractive('df-537b3a5f-9ed2-4f53-90f5-64aa12f5ce14')\"\n",
              "            title=\"Convert this dataframe to an interactive table.\"\n",
              "            style=\"display:none;\">\n",
              "\n",
              "  <svg xmlns=\"http://www.w3.org/2000/svg\" height=\"24px\" viewBox=\"0 -960 960 960\">\n",
              "    <path d=\"M120-120v-720h720v720H120Zm60-500h600v-160H180v160Zm220 220h160v-160H400v160Zm0 220h160v-160H400v160ZM180-400h160v-160H180v160Zm440 0h160v-160H620v160ZM180-180h160v-160H180v160Zm440 0h160v-160H620v160Z\"/>\n",
              "  </svg>\n",
              "    </button>\n",
              "\n",
              "  <style>\n",
              "    .colab-df-container {\n",
              "      display:flex;\n",
              "      gap: 12px;\n",
              "    }\n",
              "\n",
              "    .colab-df-convert {\n",
              "      background-color: #E8F0FE;\n",
              "      border: none;\n",
              "      border-radius: 50%;\n",
              "      cursor: pointer;\n",
              "      display: none;\n",
              "      fill: #1967D2;\n",
              "      height: 32px;\n",
              "      padding: 0 0 0 0;\n",
              "      width: 32px;\n",
              "    }\n",
              "\n",
              "    .colab-df-convert:hover {\n",
              "      background-color: #E2EBFA;\n",
              "      box-shadow: 0px 1px 2px rgba(60, 64, 67, 0.3), 0px 1px 3px 1px rgba(60, 64, 67, 0.15);\n",
              "      fill: #174EA6;\n",
              "    }\n",
              "\n",
              "    .colab-df-buttons div {\n",
              "      margin-bottom: 4px;\n",
              "    }\n",
              "\n",
              "    [theme=dark] .colab-df-convert {\n",
              "      background-color: #3B4455;\n",
              "      fill: #D2E3FC;\n",
              "    }\n",
              "\n",
              "    [theme=dark] .colab-df-convert:hover {\n",
              "      background-color: #434B5C;\n",
              "      box-shadow: 0px 1px 3px 1px rgba(0, 0, 0, 0.15);\n",
              "      filter: drop-shadow(0px 1px 2px rgba(0, 0, 0, 0.3));\n",
              "      fill: #FFFFFF;\n",
              "    }\n",
              "  </style>\n",
              "\n",
              "    <script>\n",
              "      const buttonEl =\n",
              "        document.querySelector('#df-537b3a5f-9ed2-4f53-90f5-64aa12f5ce14 button.colab-df-convert');\n",
              "      buttonEl.style.display =\n",
              "        google.colab.kernel.accessAllowed ? 'block' : 'none';\n",
              "\n",
              "      async function convertToInteractive(key) {\n",
              "        const element = document.querySelector('#df-537b3a5f-9ed2-4f53-90f5-64aa12f5ce14');\n",
              "        const dataTable =\n",
              "          await google.colab.kernel.invokeFunction('convertToInteractive',\n",
              "                                                    [key], {});\n",
              "        if (!dataTable) return;\n",
              "\n",
              "        const docLinkHtml = 'Like what you see? Visit the ' +\n",
              "          '<a target=\"_blank\" href=https://colab.research.google.com/notebooks/data_table.ipynb>data table notebook</a>'\n",
              "          + ' to learn more about interactive tables.';\n",
              "        element.innerHTML = '';\n",
              "        dataTable['output_type'] = 'display_data';\n",
              "        await google.colab.output.renderOutput(dataTable, element);\n",
              "        const docLink = document.createElement('div');\n",
              "        docLink.innerHTML = docLinkHtml;\n",
              "        element.appendChild(docLink);\n",
              "      }\n",
              "    </script>\n",
              "  </div>\n",
              "\n",
              "\n",
              "<div id=\"df-4186ec47-8201-496e-8f02-1df5424c5ab0\">\n",
              "  <button class=\"colab-df-quickchart\" onclick=\"quickchart('df-4186ec47-8201-496e-8f02-1df5424c5ab0')\"\n",
              "            title=\"Suggest charts\"\n",
              "            style=\"display:none;\">\n",
              "\n",
              "<svg xmlns=\"http://www.w3.org/2000/svg\" height=\"24px\"viewBox=\"0 0 24 24\"\n",
              "     width=\"24px\">\n",
              "    <g>\n",
              "        <path d=\"M19 3H5c-1.1 0-2 .9-2 2v14c0 1.1.9 2 2 2h14c1.1 0 2-.9 2-2V5c0-1.1-.9-2-2-2zM9 17H7v-7h2v7zm4 0h-2V7h2v10zm4 0h-2v-4h2v4z\"/>\n",
              "    </g>\n",
              "</svg>\n",
              "  </button>\n",
              "\n",
              "<style>\n",
              "  .colab-df-quickchart {\n",
              "      --bg-color: #E8F0FE;\n",
              "      --fill-color: #1967D2;\n",
              "      --hover-bg-color: #E2EBFA;\n",
              "      --hover-fill-color: #174EA6;\n",
              "      --disabled-fill-color: #AAA;\n",
              "      --disabled-bg-color: #DDD;\n",
              "  }\n",
              "\n",
              "  [theme=dark] .colab-df-quickchart {\n",
              "      --bg-color: #3B4455;\n",
              "      --fill-color: #D2E3FC;\n",
              "      --hover-bg-color: #434B5C;\n",
              "      --hover-fill-color: #FFFFFF;\n",
              "      --disabled-bg-color: #3B4455;\n",
              "      --disabled-fill-color: #666;\n",
              "  }\n",
              "\n",
              "  .colab-df-quickchart {\n",
              "    background-color: var(--bg-color);\n",
              "    border: none;\n",
              "    border-radius: 50%;\n",
              "    cursor: pointer;\n",
              "    display: none;\n",
              "    fill: var(--fill-color);\n",
              "    height: 32px;\n",
              "    padding: 0;\n",
              "    width: 32px;\n",
              "  }\n",
              "\n",
              "  .colab-df-quickchart:hover {\n",
              "    background-color: var(--hover-bg-color);\n",
              "    box-shadow: 0 1px 2px rgba(60, 64, 67, 0.3), 0 1px 3px 1px rgba(60, 64, 67, 0.15);\n",
              "    fill: var(--button-hover-fill-color);\n",
              "  }\n",
              "\n",
              "  .colab-df-quickchart-complete:disabled,\n",
              "  .colab-df-quickchart-complete:disabled:hover {\n",
              "    background-color: var(--disabled-bg-color);\n",
              "    fill: var(--disabled-fill-color);\n",
              "    box-shadow: none;\n",
              "  }\n",
              "\n",
              "  .colab-df-spinner {\n",
              "    border: 2px solid var(--fill-color);\n",
              "    border-color: transparent;\n",
              "    border-bottom-color: var(--fill-color);\n",
              "    animation:\n",
              "      spin 1s steps(1) infinite;\n",
              "  }\n",
              "\n",
              "  @keyframes spin {\n",
              "    0% {\n",
              "      border-color: transparent;\n",
              "      border-bottom-color: var(--fill-color);\n",
              "      border-left-color: var(--fill-color);\n",
              "    }\n",
              "    20% {\n",
              "      border-color: transparent;\n",
              "      border-left-color: var(--fill-color);\n",
              "      border-top-color: var(--fill-color);\n",
              "    }\n",
              "    30% {\n",
              "      border-color: transparent;\n",
              "      border-left-color: var(--fill-color);\n",
              "      border-top-color: var(--fill-color);\n",
              "      border-right-color: var(--fill-color);\n",
              "    }\n",
              "    40% {\n",
              "      border-color: transparent;\n",
              "      border-right-color: var(--fill-color);\n",
              "      border-top-color: var(--fill-color);\n",
              "    }\n",
              "    60% {\n",
              "      border-color: transparent;\n",
              "      border-right-color: var(--fill-color);\n",
              "    }\n",
              "    80% {\n",
              "      border-color: transparent;\n",
              "      border-right-color: var(--fill-color);\n",
              "      border-bottom-color: var(--fill-color);\n",
              "    }\n",
              "    90% {\n",
              "      border-color: transparent;\n",
              "      border-bottom-color: var(--fill-color);\n",
              "    }\n",
              "  }\n",
              "</style>\n",
              "\n",
              "  <script>\n",
              "    async function quickchart(key) {\n",
              "      const quickchartButtonEl =\n",
              "        document.querySelector('#' + key + ' button');\n",
              "      quickchartButtonEl.disabled = true;  // To prevent multiple clicks.\n",
              "      quickchartButtonEl.classList.add('colab-df-spinner');\n",
              "      try {\n",
              "        const charts = await google.colab.kernel.invokeFunction(\n",
              "            'suggestCharts', [key], {});\n",
              "      } catch (error) {\n",
              "        console.error('Error during call to suggestCharts:', error);\n",
              "      }\n",
              "      quickchartButtonEl.classList.remove('colab-df-spinner');\n",
              "      quickchartButtonEl.classList.add('colab-df-quickchart-complete');\n",
              "    }\n",
              "    (() => {\n",
              "      let quickchartButtonEl =\n",
              "        document.querySelector('#df-4186ec47-8201-496e-8f02-1df5424c5ab0 button');\n",
              "      quickchartButtonEl.style.display =\n",
              "        google.colab.kernel.accessAllowed ? 'block' : 'none';\n",
              "    })();\n",
              "  </script>\n",
              "</div>\n",
              "\n",
              "    </div>\n",
              "  </div>\n"
            ],
            "application/vnd.google.colaboratory.intrinsic+json": {
              "type": "dataframe",
              "variable_name": "df",
              "summary": "{\n  \"name\": \"df\",\n  \"rows\": 4401,\n  \"fields\": [\n    {\n      \"column\": \"label\",\n      \"properties\": {\n        \"dtype\": \"category\",\n        \"num_unique_values\": 5,\n        \"samples\": [\n          \"happy\",\n          \"fear\",\n          \"sadness\"\n        ],\n        \"semantic_type\": \"\",\n        \"description\": \"\"\n      }\n    },\n    {\n      \"column\": \"tweet\",\n      \"properties\": {\n        \"dtype\": \"string\",\n        \"num_unique_values\": 4374,\n        \"samples\": [\n          \"hilangin sifat gengsi jelas ujungnua cuma bikin capai diri sendiri tidak mau dipandang lenih rendah buruk dibandingkan orang tidak ada habisnya kalau nurutin orang mending coba buat nerima kekurangan perbaiki jadi kelebihan\",\n          \"habis pikir sama orang benarbenar mau nikah hitungan tinggal beberapa bulan tapi tetap main belakang otaknya mati kali jauhkan lakilaki kayak allah\",\n          \"angka segera digantikan angka baru welcome th semoga angkaangka sudah berlalu berlalu menjadi cermin pelajaran baik menyongsong masa depan yang lebih baik berharap kebahagiaan kedamaian menyertai angka baru\"\n        ],\n        \"semantic_type\": \"\",\n        \"description\": \"\"\n      }\n    },\n    {\n      \"column\": \"refined_tweet\",\n      \"properties\": {\n        \"dtype\": \"string\",\n        \"num_unique_values\": 4374,\n        \"samples\": [\n          \"hilangin sifat gengsi jelas ujungnua bikin capai diri sendiri mau dipandang lenih rendah buruk dibandingkan habisnya nurutin mending coba nerima kekurangan perbaiki kelebihan\",\n          \"habis pikir benarbenar mau nikah hitungan tinggal beberapa bulan tapi tetap main belakang otaknya mati kali jauhkan lakilaki kayak allah\",\n          \"angka segera digantikan angka welcome th semoga angkaangka sudah berlalu berlalu menjadi cermin pelajaran baik menyongsong masa depan baik berharap kebahagiaan kedamaian menyertai angka\"\n        ],\n        \"semantic_type\": \"\",\n        \"description\": \"\"\n      }\n    }\n  ]\n}"
            }
          },
          "metadata": {},
          "execution_count": 3
        }
      ]
    },
    {
      "cell_type": "code",
      "source": [
        "tokenizer = Tokenizer(num_words=10000, oov_token=\"<OOV>\")\n",
        "tokenizer.fit_on_texts(df['refined_tweet'])\n",
        "\n",
        "label_encoder = LabelEncoder()\n",
        "df['label'] = label_encoder.fit_transform(df['label'])\n",
        "\n",
        "print(label_encoder.classes_)"
      ],
      "metadata": {
        "colab": {
          "base_uri": "https://localhost:8080/"
        },
        "id": "PD70BLC7U8Cy",
        "outputId": "c0e4e1f1-89fc-4de5-fc8d-367456829eb8"
      },
      "execution_count": 4,
      "outputs": [
        {
          "output_type": "stream",
          "name": "stdout",
          "text": [
            "['anger' 'fear' 'happy' 'love' 'sadness']\n"
          ]
        }
      ]
    },
    {
      "cell_type": "code",
      "source": [
        "from tensorflow.keras.models import load_model\n",
        "\n",
        "model_path = '/content/drive/MyDrive/Amel_Model/my_model.h5'\n",
        "\n",
        "model = load_model(model_path)\n",
        "model.summary()"
      ],
      "metadata": {
        "colab": {
          "base_uri": "https://localhost:8080/",
          "height": 449
        },
        "id": "uEov0j1CVU75",
        "outputId": "fbe9a7bc-f06c-4ec3-ecb2-af14302c05a3"
      },
      "execution_count": 5,
      "outputs": [
        {
          "output_type": "stream",
          "name": "stderr",
          "text": [
            "WARNING:absl:Compiled the loaded model, but the compiled metrics have yet to be built. `model.compile_metrics` will be empty until you train or evaluate the model.\n"
          ]
        },
        {
          "output_type": "display_data",
          "data": {
            "text/plain": [
              "\u001b[1mModel: \"sequential\"\u001b[0m\n"
            ],
            "text/html": [
              "<pre style=\"white-space:pre;overflow-x:auto;line-height:normal;font-family:Menlo,'DejaVu Sans Mono',consolas,'Courier New',monospace\"><span style=\"font-weight: bold\">Model: \"sequential\"</span>\n",
              "</pre>\n"
            ]
          },
          "metadata": {}
        },
        {
          "output_type": "display_data",
          "data": {
            "text/plain": [
              "┏━━━━━━━━━━━━━━━━━━━━━━━━━━━━━━━━━━━━━━┳━━━━━━━━━━━━━━━━━━━━━━━━━━━━━┳━━━━━━━━━━━━━━━━━┓\n",
              "┃\u001b[1m \u001b[0m\u001b[1mLayer (type)                        \u001b[0m\u001b[1m \u001b[0m┃\u001b[1m \u001b[0m\u001b[1mOutput Shape               \u001b[0m\u001b[1m \u001b[0m┃\u001b[1m \u001b[0m\u001b[1m        Param #\u001b[0m\u001b[1m \u001b[0m┃\n",
              "┡━━━━━━━━━━━━━━━━━━━━━━━━━━━━━━━━━━━━━━╇━━━━━━━━━━━━━━━━━━━━━━━━━━━━━╇━━━━━━━━━━━━━━━━━┩\n",
              "│ embedding (\u001b[38;5;33mEmbedding\u001b[0m)                │ (\u001b[38;5;45mNone\u001b[0m, \u001b[38;5;34m100\u001b[0m, \u001b[38;5;34m50\u001b[0m)             │         \u001b[38;5;34m500,000\u001b[0m │\n",
              "├──────────────────────────────────────┼─────────────────────────────┼─────────────────┤\n",
              "│ dropout (\u001b[38;5;33mDropout\u001b[0m)                    │ (\u001b[38;5;45mNone\u001b[0m, \u001b[38;5;34m100\u001b[0m, \u001b[38;5;34m50\u001b[0m)             │               \u001b[38;5;34m0\u001b[0m │\n",
              "├──────────────────────────────────────┼─────────────────────────────┼─────────────────┤\n",
              "│ bidirectional (\u001b[38;5;33mBidirectional\u001b[0m)        │ (\u001b[38;5;45mNone\u001b[0m, \u001b[38;5;34m100\u001b[0m, \u001b[38;5;34m128\u001b[0m)            │          \u001b[38;5;34m44,544\u001b[0m │\n",
              "├──────────────────────────────────────┼─────────────────────────────┼─────────────────┤\n",
              "│ bidirectional_1 (\u001b[38;5;33mBidirectional\u001b[0m)      │ (\u001b[38;5;45mNone\u001b[0m, \u001b[38;5;34m100\u001b[0m, \u001b[38;5;34m128\u001b[0m)            │          \u001b[38;5;34m74,496\u001b[0m │\n",
              "├──────────────────────────────────────┼─────────────────────────────┼─────────────────┤\n",
              "│ bidirectional_2 (\u001b[38;5;33mBidirectional\u001b[0m)      │ (\u001b[38;5;45mNone\u001b[0m, \u001b[38;5;34m100\u001b[0m, \u001b[38;5;34m128\u001b[0m)            │          \u001b[38;5;34m74,496\u001b[0m │\n",
              "├──────────────────────────────────────┼─────────────────────────────┼─────────────────┤\n",
              "│ batch_normalization                  │ (\u001b[38;5;45mNone\u001b[0m, \u001b[38;5;34m100\u001b[0m, \u001b[38;5;34m128\u001b[0m)            │             \u001b[38;5;34m512\u001b[0m │\n",
              "│ (\u001b[38;5;33mBatchNormalization\u001b[0m)                 │                             │                 │\n",
              "├──────────────────────────────────────┼─────────────────────────────┼─────────────────┤\n",
              "│ bidirectional_3 (\u001b[38;5;33mBidirectional\u001b[0m)      │ (\u001b[38;5;45mNone\u001b[0m, \u001b[38;5;34m128\u001b[0m)                 │          \u001b[38;5;34m74,496\u001b[0m │\n",
              "├──────────────────────────────────────┼─────────────────────────────┼─────────────────┤\n",
              "│ dense (\u001b[38;5;33mDense\u001b[0m)                        │ (\u001b[38;5;45mNone\u001b[0m, \u001b[38;5;34m6\u001b[0m)                   │             \u001b[38;5;34m774\u001b[0m │\n",
              "└──────────────────────────────────────┴─────────────────────────────┴─────────────────┘\n"
            ],
            "text/html": [
              "<pre style=\"white-space:pre;overflow-x:auto;line-height:normal;font-family:Menlo,'DejaVu Sans Mono',consolas,'Courier New',monospace\">┏━━━━━━━━━━━━━━━━━━━━━━━━━━━━━━━━━━━━━━┳━━━━━━━━━━━━━━━━━━━━━━━━━━━━━┳━━━━━━━━━━━━━━━━━┓\n",
              "┃<span style=\"font-weight: bold\"> Layer (type)                         </span>┃<span style=\"font-weight: bold\"> Output Shape                </span>┃<span style=\"font-weight: bold\">         Param # </span>┃\n",
              "┡━━━━━━━━━━━━━━━━━━━━━━━━━━━━━━━━━━━━━━╇━━━━━━━━━━━━━━━━━━━━━━━━━━━━━╇━━━━━━━━━━━━━━━━━┩\n",
              "│ embedding (<span style=\"color: #0087ff; text-decoration-color: #0087ff\">Embedding</span>)                │ (<span style=\"color: #00d7ff; text-decoration-color: #00d7ff\">None</span>, <span style=\"color: #00af00; text-decoration-color: #00af00\">100</span>, <span style=\"color: #00af00; text-decoration-color: #00af00\">50</span>)             │         <span style=\"color: #00af00; text-decoration-color: #00af00\">500,000</span> │\n",
              "├──────────────────────────────────────┼─────────────────────────────┼─────────────────┤\n",
              "│ dropout (<span style=\"color: #0087ff; text-decoration-color: #0087ff\">Dropout</span>)                    │ (<span style=\"color: #00d7ff; text-decoration-color: #00d7ff\">None</span>, <span style=\"color: #00af00; text-decoration-color: #00af00\">100</span>, <span style=\"color: #00af00; text-decoration-color: #00af00\">50</span>)             │               <span style=\"color: #00af00; text-decoration-color: #00af00\">0</span> │\n",
              "├──────────────────────────────────────┼─────────────────────────────┼─────────────────┤\n",
              "│ bidirectional (<span style=\"color: #0087ff; text-decoration-color: #0087ff\">Bidirectional</span>)        │ (<span style=\"color: #00d7ff; text-decoration-color: #00d7ff\">None</span>, <span style=\"color: #00af00; text-decoration-color: #00af00\">100</span>, <span style=\"color: #00af00; text-decoration-color: #00af00\">128</span>)            │          <span style=\"color: #00af00; text-decoration-color: #00af00\">44,544</span> │\n",
              "├──────────────────────────────────────┼─────────────────────────────┼─────────────────┤\n",
              "│ bidirectional_1 (<span style=\"color: #0087ff; text-decoration-color: #0087ff\">Bidirectional</span>)      │ (<span style=\"color: #00d7ff; text-decoration-color: #00d7ff\">None</span>, <span style=\"color: #00af00; text-decoration-color: #00af00\">100</span>, <span style=\"color: #00af00; text-decoration-color: #00af00\">128</span>)            │          <span style=\"color: #00af00; text-decoration-color: #00af00\">74,496</span> │\n",
              "├──────────────────────────────────────┼─────────────────────────────┼─────────────────┤\n",
              "│ bidirectional_2 (<span style=\"color: #0087ff; text-decoration-color: #0087ff\">Bidirectional</span>)      │ (<span style=\"color: #00d7ff; text-decoration-color: #00d7ff\">None</span>, <span style=\"color: #00af00; text-decoration-color: #00af00\">100</span>, <span style=\"color: #00af00; text-decoration-color: #00af00\">128</span>)            │          <span style=\"color: #00af00; text-decoration-color: #00af00\">74,496</span> │\n",
              "├──────────────────────────────────────┼─────────────────────────────┼─────────────────┤\n",
              "│ batch_normalization                  │ (<span style=\"color: #00d7ff; text-decoration-color: #00d7ff\">None</span>, <span style=\"color: #00af00; text-decoration-color: #00af00\">100</span>, <span style=\"color: #00af00; text-decoration-color: #00af00\">128</span>)            │             <span style=\"color: #00af00; text-decoration-color: #00af00\">512</span> │\n",
              "│ (<span style=\"color: #0087ff; text-decoration-color: #0087ff\">BatchNormalization</span>)                 │                             │                 │\n",
              "├──────────────────────────────────────┼─────────────────────────────┼─────────────────┤\n",
              "│ bidirectional_3 (<span style=\"color: #0087ff; text-decoration-color: #0087ff\">Bidirectional</span>)      │ (<span style=\"color: #00d7ff; text-decoration-color: #00d7ff\">None</span>, <span style=\"color: #00af00; text-decoration-color: #00af00\">128</span>)                 │          <span style=\"color: #00af00; text-decoration-color: #00af00\">74,496</span> │\n",
              "├──────────────────────────────────────┼─────────────────────────────┼─────────────────┤\n",
              "│ dense (<span style=\"color: #0087ff; text-decoration-color: #0087ff\">Dense</span>)                        │ (<span style=\"color: #00d7ff; text-decoration-color: #00d7ff\">None</span>, <span style=\"color: #00af00; text-decoration-color: #00af00\">6</span>)                   │             <span style=\"color: #00af00; text-decoration-color: #00af00\">774</span> │\n",
              "└──────────────────────────────────────┴─────────────────────────────┴─────────────────┘\n",
              "</pre>\n"
            ]
          },
          "metadata": {}
        },
        {
          "output_type": "display_data",
          "data": {
            "text/plain": [
              "\u001b[1m Total params: \u001b[0m\u001b[38;5;34m769,320\u001b[0m (2.93 MB)\n"
            ],
            "text/html": [
              "<pre style=\"white-space:pre;overflow-x:auto;line-height:normal;font-family:Menlo,'DejaVu Sans Mono',consolas,'Courier New',monospace\"><span style=\"font-weight: bold\"> Total params: </span><span style=\"color: #00af00; text-decoration-color: #00af00\">769,320</span> (2.93 MB)\n",
              "</pre>\n"
            ]
          },
          "metadata": {}
        },
        {
          "output_type": "display_data",
          "data": {
            "text/plain": [
              "\u001b[1m Trainable params: \u001b[0m\u001b[38;5;34m769,062\u001b[0m (2.93 MB)\n"
            ],
            "text/html": [
              "<pre style=\"white-space:pre;overflow-x:auto;line-height:normal;font-family:Menlo,'DejaVu Sans Mono',consolas,'Courier New',monospace\"><span style=\"font-weight: bold\"> Trainable params: </span><span style=\"color: #00af00; text-decoration-color: #00af00\">769,062</span> (2.93 MB)\n",
              "</pre>\n"
            ]
          },
          "metadata": {}
        },
        {
          "output_type": "display_data",
          "data": {
            "text/plain": [
              "\u001b[1m Non-trainable params: \u001b[0m\u001b[38;5;34m256\u001b[0m (1.00 KB)\n"
            ],
            "text/html": [
              "<pre style=\"white-space:pre;overflow-x:auto;line-height:normal;font-family:Menlo,'DejaVu Sans Mono',consolas,'Courier New',monospace\"><span style=\"font-weight: bold\"> Non-trainable params: </span><span style=\"color: #00af00; text-decoration-color: #00af00\">256</span> (1.00 KB)\n",
              "</pre>\n"
            ]
          },
          "metadata": {}
        },
        {
          "output_type": "display_data",
          "data": {
            "text/plain": [
              "\u001b[1m Optimizer params: \u001b[0m\u001b[38;5;34m2\u001b[0m (12.00 B)\n"
            ],
            "text/html": [
              "<pre style=\"white-space:pre;overflow-x:auto;line-height:normal;font-family:Menlo,'DejaVu Sans Mono',consolas,'Courier New',monospace\"><span style=\"font-weight: bold\"> Optimizer params: </span><span style=\"color: #00af00; text-decoration-color: #00af00\">2</span> (12.00 B)\n",
              "</pre>\n"
            ]
          },
          "metadata": {}
        }
      ]
    },
    {
      "cell_type": "code",
      "source": [
        "max_len = 100"
      ],
      "metadata": {
        "id": "gUGbHZKkYJTr"
      },
      "execution_count": 6,
      "outputs": []
    },
    {
      "cell_type": "markdown",
      "source": [
        "# Test Classification Model"
      ],
      "metadata": {
        "id": "sPoa6QfUD7UP"
      }
    },
    {
      "cell_type": "code",
      "source": [
        "def predict_mood(text):\n",
        "    seq = tokenizer.texts_to_sequences([text])\n",
        "    padded = pad_sequences(seq, maxlen=max_len, padding='post', truncating='post')\n",
        "    prediction = model.predict(padded)\n",
        "    mood = label_encoder.inverse_transform([np.argmax(prediction)])[0]\n",
        "    return mood\n",
        "\n",
        "example_text = \"saya cinta dia\"\n",
        "predicted_mood = predict_mood(example_text)\n",
        "print(f\"Predicted Mood: {predicted_mood}\")"
      ],
      "metadata": {
        "colab": {
          "base_uri": "https://localhost:8080/"
        },
        "id": "ho_zq9Z3XwAa",
        "outputId": "1a35a2e6-6a1c-4897-e28c-75c02617d270"
      },
      "execution_count": 7,
      "outputs": [
        {
          "output_type": "stream",
          "name": "stdout",
          "text": [
            "\u001b[1m1/1\u001b[0m \u001b[32m━━━━━━━━━━━━━━━━━━━━\u001b[0m\u001b[37m\u001b[0m \u001b[1m2s\u001b[0m 2s/step\n",
            "Predicted Mood: love\n"
          ]
        }
      ]
    },
    {
      "cell_type": "markdown",
      "source": [
        "# Sistem Rekomendasi Aktivitas\n"
      ],
      "metadata": {
        "id": "TXBS4KhCECTR"
      }
    },
    {
      "cell_type": "markdown",
      "source": [
        "\n",
        "\n",
        "*   List rekomendasi disimpan di file json, agar memudahkan proses editing atau\n",
        "adjustment kalau diperlukan\n",
        "\n"
      ],
      "metadata": {
        "id": "VdvV7OxxEfGX"
      }
    },
    {
      "cell_type": "code",
      "source": [
        "json_file_path = '/content/drive/My Drive/recommendations/RecommendationTimeBased.json'"
      ],
      "metadata": {
        "id": "MeHp5zma-g4m"
      },
      "execution_count": 8,
      "outputs": []
    },
    {
      "cell_type": "markdown",
      "source": [
        "\n",
        "\n",
        "*   Library yang digunakan :\n",
        "\n"
      ],
      "metadata": {
        "id": "B751YSVME-E-"
      }
    },
    {
      "cell_type": "code",
      "source": [
        "import json\n",
        "from datetime import datetime\n",
        "import random"
      ],
      "metadata": {
        "id": "tZnCEvrG80HZ"
      },
      "execution_count": 9,
      "outputs": []
    },
    {
      "cell_type": "markdown",
      "source": [
        "\n",
        "\n",
        "*   Mood Mapping\n",
        "\n"
      ],
      "metadata": {
        "id": "XJEWhjEWFZlC"
      }
    },
    {
      "cell_type": "code",
      "source": [
        "mood_to_stress_mapping = {\n",
        "    'anger': 'high',\n",
        "    'fear': 'high',\n",
        "    'happy': 'low',\n",
        "    'love': 'low',\n",
        "    'sadness': 'medium'\n",
        "}"
      ],
      "metadata": {
        "id": "DilJTsbmFhSo"
      },
      "execution_count": 10,
      "outputs": []
    },
    {
      "cell_type": "markdown",
      "source": [
        "## Setting Keyword Intensity\n",
        "[Note]: ini setting keyword untuk intensity, karena model kita cuma generate single detection buat moodnya, jadi pake keyword setting buat akalin keterbatasan biar kita punya output stress level sesuai rencana awal. kalo mungkin nanti mau di demonstrasi, bisa perhatiin keyword2 ini buat set inputnya.\n",
        "\n"
      ],
      "metadata": {
        "id": "FXvd9EtGF0EE"
      }
    },
    {
      "cell_type": "code",
      "source": [
        "def get_intensity_from_text(text):\n",
        "\n",
        "    high_intensity_keywords = [\"terlalu\", \"parah\", \"benci\", \"sangat\", \"banget\", \"kesal\", \"muak\"]\n",
        "    medium_intensity_keywords = [\"sedikit\", \"lumayan\", \"agak\", \"cuma\", \"mungkin\", \"kurang\"]\n",
        "    low_intensity_keywords = [\"tenang\", \"sedang\", \"biasa\", \"ringan\", \"normal\",\"senang\",\"cinta\",\"suka\",\"sayang\"]\n",
        "\n",
        "    negations = [\"tidak\", \"gak\", \"nggak\", \"bukan\"]\n",
        "\n",
        "    if any(word in text for word in high_intensity_keywords):\n",
        "        return 'high'\n",
        "    elif any(word in text for word in medium_intensity_keywords):\n",
        "        return 'medium'\n",
        "    elif any(word in text for word in low_intensity_keywords):\n",
        "        return 'low'\n",
        "\n",
        "    if any(word in text for word in negations):\n",
        "        return 'low'"
      ],
      "metadata": {
        "id": "InhaKW1CFqRz"
      },
      "execution_count": 11,
      "outputs": []
    },
    {
      "cell_type": "code",
      "source": [
        "def predict_mood(text):\n",
        "    seq = tokenizer.texts_to_sequences([text])\n",
        "    padded = pad_sequences(seq, maxlen=max_len, padding='post', truncating='post')\n",
        "    prediction = model.predict(padded)\n",
        "    mood = label_encoder.inverse_transform([np.argmax(prediction)])[0]\n",
        "    return mood"
      ],
      "metadata": {
        "id": "0DynIjoyY7iq"
      },
      "execution_count": 12,
      "outputs": []
    },
    {
      "cell_type": "markdown",
      "source": [
        "\n",
        "\n",
        "*   Load json file\n",
        "\n"
      ],
      "metadata": {
        "id": "j7Mv9Wc7GOEP"
      }
    },
    {
      "cell_type": "code",
      "source": [
        "def load_recommendations():\n",
        "    try:\n",
        "        with open('/content/drive/My Drive/RecommendationTimeBased.json', 'r') as file:\n",
        "            recommendations = json.load(file)\n",
        "        return recommendations\n",
        "    except FileNotFoundError:\n",
        "        print(\"RecommendationTimeBased.json file not found!\")\n",
        "        return {}\n",
        "\n",
        "recommendations_data = load_recommendations()"
      ],
      "metadata": {
        "id": "Gg_hNcNQGMso"
      },
      "execution_count": 13,
      "outputs": []
    },
    {
      "cell_type": "markdown",
      "source": [
        "## Format Display\n",
        "[Note]  kalau mau ubah display output, atur dari sini aja. ini distructure berdasarkan design UI MD"
      ],
      "metadata": {
        "id": "3HtOyd5EFUmQ"
      }
    },
    {
      "cell_type": "code",
      "source": [
        "def display_recommendation(recommendation):\n",
        "    current_time = datetime.now().strftime('%Y-%m-%d %H:%M:%S')\n",
        "\n",
        "    print(f\"Time of Recommendation: {current_time}\")\n",
        "    print(f\"Predicted Mood: {recommendation['Predicted Mood']}\")\n",
        "\n",
        "    print(f\"Stress Level: {recommendation['Stress Level']}\")\n",
        "\n",
        "    print(f\"\\nSympathy Message: {recommendation['Sympathy Message']}\\n\")\n",
        "    print(\"\\nThoughtful Suggestions:\")\n",
        "    for suggestion in recommendation['Thoughtful Suggestions']:\n",
        "        print(f\" - {suggestion}\")\n",
        "\n",
        "    print(\"\\nTips for You:\")\n",
        "    for tip in recommendation['Tips']:\n",
        "        print(f\" - {tip}\")"
      ],
      "metadata": {
        "id": "33uVHFgFFT2G"
      },
      "execution_count": 14,
      "outputs": []
    },
    {
      "cell_type": "markdown",
      "source": [
        "## Define fungsi mood & stress level"
      ],
      "metadata": {
        "id": "wt9VPv7CGEfU"
      }
    },
    {
      "cell_type": "code",
      "source": [
        "def recommend_activity(mood, intensity):\n",
        "\n",
        "#[Mood Intensity]\n",
        "    stress_level = mood_to_stress_mapping.get(mood, 'low')\n",
        "\n",
        "    if intensity == 'high':\n",
        "        stress_level = 'high'\n",
        "    elif intensity == 'medium' and stress_level == 'low':\n",
        "        stress_level = 'medium'\n",
        "\n",
        "#[Logic Time Based]\n",
        "    current_hour = datetime.now().hour\n",
        "    print(f\"Current hour: {current_hour}\")\n",
        "    if current_hour < 11:\n",
        "        time_of_day = 'morning'\n",
        "    elif 11 <= current_hour < 15:\n",
        "        time_of_day = 'afternoon'\n",
        "    elif 15 <= current_hour < 21:\n",
        "        time_of_day = 'evening'\n",
        "    else:\n",
        "        time_of_day = 'night'\n",
        "\n",
        "    time_based_recommendations = recommendations_data.get(stress_level, {}).get(time_of_day, [])\n",
        "\n",
        "    # Fetch [thoughtful suggestions]\n",
        "    thoughtful_suggestions = []\n",
        "    if time_based_recommendations:\n",
        "        thoughtful_suggestions_data = time_based_recommendations[0].get('thoughtful_suggestions', [])\n",
        "        if isinstance(thoughtful_suggestions_data, list):\n",
        "            thoughtful_suggestions = random.sample(\n",
        "                thoughtful_suggestions_data,\n",
        "                k=min(3, len(thoughtful_suggestions_data))\n",
        "            )\n",
        "\n",
        "    # Fetch [tips]\n",
        "    tips = []\n",
        "    if time_based_recommendations:\n",
        "        tips_data = time_based_recommendations[0].get('tips_untukmu_saat_ini', [])\n",
        "        if isinstance(tips_data, list) and tips_data:\n",
        "            tips = random.sample(\n",
        "                tips_data,\n",
        "                k=min(3, len(tips_data))\n",
        "            )\n",
        "        else:\n",
        "            print(\"No tips found for this stress level:\", stress_level)\n",
        "\n",
        "    # Fetch [sympathy]\n",
        "    if time_based_recommendations:\n",
        "        sympathy_messages = time_based_recommendations[0].get('sympathy', [])\n",
        "        if isinstance(sympathy_messages, list) and sympathy_messages:\n",
        "            sympathy_message = random.choice(sympathy_messages)\n",
        "\n",
        "    return stress_level, thoughtful_suggestions, tips, sympathy_message"
      ],
      "metadata": {
        "id": "gdTe5uOAF-9_"
      },
      "execution_count": 15,
      "outputs": []
    },
    {
      "cell_type": "markdown",
      "source": [
        "## Combined Prediksi Klasifikasi & Rekomendasi"
      ],
      "metadata": {
        "id": "tTjqxv_5Je0d"
      }
    },
    {
      "cell_type": "code",
      "source": [
        "def get_recommendation_from_sentence(text):\n",
        "    predicted_mood = predict_mood(text)\n",
        "\n",
        "    intensity = get_intensity_from_text(text)\n",
        "\n",
        "    stress_level, thoughtful_suggestions, tips, sympathy_message = recommend_activity(predicted_mood, intensity)\n",
        "\n",
        "    return {\n",
        "        \"Sympathy Message\": sympathy_message,\n",
        "        \"Predicted Mood\": predicted_mood,\n",
        "        \"Stress Level\": stress_level,\n",
        "        \"Thoughtful Suggestions\": thoughtful_suggestions,\n",
        "        \"Tips\": tips,\n",
        "    }"
      ],
      "metadata": {
        "id": "ShEMRgV6Jd3L"
      },
      "execution_count": 16,
      "outputs": []
    },
    {
      "cell_type": "markdown",
      "source": [
        "## Test"
      ],
      "metadata": {
        "id": "--Cah_fEKCS_"
      }
    },
    {
      "cell_type": "code",
      "source": [
        "example_text = \"hari ini saya sedih sekali\"\n",
        "recommendation = get_recommendation_from_sentence(example_text)\n",
        "\n",
        "display_recommendation(recommendation)"
      ],
      "metadata": {
        "colab": {
          "base_uri": "https://localhost:8080/"
        },
        "id": "OMQC761nJyG0",
        "outputId": "74b1497d-1cb9-4b3c-f5dd-a113e1e2164e"
      },
      "execution_count": 17,
      "outputs": [
        {
          "output_type": "stream",
          "name": "stdout",
          "text": [
            "\u001b[1m1/1\u001b[0m \u001b[32m━━━━━━━━━━━━━━━━━━━━\u001b[0m\u001b[37m\u001b[0m \u001b[1m0s\u001b[0m 249ms/step\n",
            "Current hour: 20\n",
            "Time of Recommendation: 2024-11-26 20:28:55\n",
            "Predicted Mood: sadness\n",
            "Stress Level: medium\n",
            "\n",
            "Sympathy Message: Seharian penuh, ya? Mungkin kamu udah merasa agak capek dan ada sedikit beban, tapi kamu udah ngerjain semuanya dengan baik. Itu patut dihargai banget, terutama setelah hari yang panjang kayak gini.\n",
            "\n",
            "\n",
            "Thoughtful Suggestions:\n",
            " - Pikirin hal-hal yang udah kamu capai hari ini. Meskipun hari ini terasa berat, apapun yang udah kamu capai itu penting, dan kamu layak dihargai.\n",
            " - Kadang ngobrol sama teman atau keluarga bisa sangat membantu, terutama setelah hari yang penuh tantangan. Mungkin bisa ngebuka pikiran dan ngeringanin beban yang kamu rasain.\n",
            " - Coba deh tulis di jurnal tentang apa yang udah kamu capai hari ini. Walaupun sore ini mungkin terasa lebih berat, menulis bisa bantu kamu lihat kemajuan dan bikin kamu merasa lebih positif.\n",
            "\n",
            "Tips for You:\n",
            " - Karena sekarang udah sore, coba deh luangkan waktu untuk diri sendiri dan lakukan hal yang bikin kamu relax, seperti baca buku atau dengerin lagu yang menenangkan.\n",
            " - Buat rutinitas tidur yang menenangkan, kayak baca buku atau meditasi singkat. Ini bisa bantu kamu tidur lebih nyenyak dan bangun lebih segar besok.\n",
            " - Setelah seharian penuh, coba dengerin musik santai atau suara alam. Itu bisa bantu kamu ngeredain ketegangan dan memberi ketenangan di sore hari.\n"
          ]
        }
      ]
    }
  ]
}